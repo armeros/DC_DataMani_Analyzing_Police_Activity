{
  "nbformat": 4,
  "nbformat_minor": 0,
  "metadata": {
    "colab": {
      "name": "Analyzing_Police",
      "provenance": [],
      "collapsed_sections": []
    },
    "kernelspec": {
      "name": "python3",
      "display_name": "Python 3"
    },
    "language_info": {
      "name": "python"
    }
  },
  "cells": [
    {
      "cell_type": "markdown",
      "source": [
        "### ***Examining the dataset***\n",
        "\n",
        "Throughout this course, you'll be analyzing a dataset of traffic stops in Rhode Island that was collected by the [Stanford Open Policing Project](https://openpolicing.stanford.edu/).\n",
        "\n",
        "Before beginning your analysis, it's important that you familiarize yourself with the dataset. In this exercise, you'll read the dataset into **`pandas`**, examine the first few rows, and then count the number of missing values.\n",
        "\n",
        "* Import pandas using the alias `pd`.\n",
        "* Read the file `police.csv` into a DataFrame named `ri`.\n",
        "* Examine the first 5 rows of the DataFrame.\n",
        "* Count the number of missing values in each column: Use **`.isnull()`** to check which DataFrame elements are missing, and then take the **`.sum()`** to count the number of `True` values in each column."
      ],
      "metadata": {
        "id": "KgtZ6kZYwEuB"
      }
    },
    {
      "cell_type": "code",
      "source": [
        "# Import the pandas library as pd\n",
        "import pandas as pd\n",
        "\n",
        "# Read 'police.csv' into a DataFrame named ri\n",
        "ri = pd.read_csv('police.csv', parse_dates=['stop_date'])\n",
        "\n",
        "# Examine the head of the DataFrame\n",
        "display(ri.head())\n",
        "\n",
        "# Count the number of missing values in each column\n",
        "print(ri.isnull().sum())"
      ],
      "metadata": {
        "colab": {
          "base_uri": "https://localhost:8080/",
          "height": 649
        },
        "id": "bw3gFDe1VQU9",
        "outputId": "1b8b44f9-a9fc-42f5-e02e-690841ff313f"
      },
      "execution_count": 8,
      "outputs": [
        {
          "output_type": "display_data",
          "data": {
            "text/html": [
              "\n",
              "  <div id=\"df-29e3a318-cb0c-4b5d-a82b-8e5bfd9cdd72\">\n",
              "    <div class=\"colab-df-container\">\n",
              "      <div>\n",
              "<style scoped>\n",
              "    .dataframe tbody tr th:only-of-type {\n",
              "        vertical-align: middle;\n",
              "    }\n",
              "\n",
              "    .dataframe tbody tr th {\n",
              "        vertical-align: top;\n",
              "    }\n",
              "\n",
              "    .dataframe thead th {\n",
              "        text-align: right;\n",
              "    }\n",
              "</style>\n",
              "<table border=\"1\" class=\"dataframe\">\n",
              "  <thead>\n",
              "    <tr style=\"text-align: right;\">\n",
              "      <th></th>\n",
              "      <th>state</th>\n",
              "      <th>stop_date</th>\n",
              "      <th>stop_time</th>\n",
              "      <th>county_name</th>\n",
              "      <th>driver_gender</th>\n",
              "      <th>driver_race</th>\n",
              "      <th>violation_raw</th>\n",
              "      <th>violation</th>\n",
              "      <th>search_conducted</th>\n",
              "      <th>search_type</th>\n",
              "      <th>stop_outcome</th>\n",
              "      <th>is_arrested</th>\n",
              "      <th>stop_duration</th>\n",
              "      <th>drugs_related_stop</th>\n",
              "      <th>district</th>\n",
              "    </tr>\n",
              "  </thead>\n",
              "  <tbody>\n",
              "    <tr>\n",
              "      <th>0</th>\n",
              "      <td>RI</td>\n",
              "      <td>2005-01-04</td>\n",
              "      <td>12:55</td>\n",
              "      <td>NaN</td>\n",
              "      <td>M</td>\n",
              "      <td>White</td>\n",
              "      <td>Equipment/Inspection Violation</td>\n",
              "      <td>Equipment</td>\n",
              "      <td>False</td>\n",
              "      <td>NaN</td>\n",
              "      <td>Citation</td>\n",
              "      <td>False</td>\n",
              "      <td>0-15 Min</td>\n",
              "      <td>False</td>\n",
              "      <td>Zone X4</td>\n",
              "    </tr>\n",
              "    <tr>\n",
              "      <th>1</th>\n",
              "      <td>RI</td>\n",
              "      <td>2005-01-23</td>\n",
              "      <td>23:15</td>\n",
              "      <td>NaN</td>\n",
              "      <td>M</td>\n",
              "      <td>White</td>\n",
              "      <td>Speeding</td>\n",
              "      <td>Speeding</td>\n",
              "      <td>False</td>\n",
              "      <td>NaN</td>\n",
              "      <td>Citation</td>\n",
              "      <td>False</td>\n",
              "      <td>0-15 Min</td>\n",
              "      <td>False</td>\n",
              "      <td>Zone K3</td>\n",
              "    </tr>\n",
              "    <tr>\n",
              "      <th>2</th>\n",
              "      <td>RI</td>\n",
              "      <td>2005-02-17</td>\n",
              "      <td>04:15</td>\n",
              "      <td>NaN</td>\n",
              "      <td>M</td>\n",
              "      <td>White</td>\n",
              "      <td>Speeding</td>\n",
              "      <td>Speeding</td>\n",
              "      <td>False</td>\n",
              "      <td>NaN</td>\n",
              "      <td>Citation</td>\n",
              "      <td>False</td>\n",
              "      <td>0-15 Min</td>\n",
              "      <td>False</td>\n",
              "      <td>Zone X4</td>\n",
              "    </tr>\n",
              "    <tr>\n",
              "      <th>3</th>\n",
              "      <td>RI</td>\n",
              "      <td>2005-02-20</td>\n",
              "      <td>17:15</td>\n",
              "      <td>NaN</td>\n",
              "      <td>M</td>\n",
              "      <td>White</td>\n",
              "      <td>Call for Service</td>\n",
              "      <td>Other</td>\n",
              "      <td>False</td>\n",
              "      <td>NaN</td>\n",
              "      <td>Arrest Driver</td>\n",
              "      <td>True</td>\n",
              "      <td>16-30 Min</td>\n",
              "      <td>False</td>\n",
              "      <td>Zone X1</td>\n",
              "    </tr>\n",
              "    <tr>\n",
              "      <th>4</th>\n",
              "      <td>RI</td>\n",
              "      <td>2005-02-24</td>\n",
              "      <td>01:20</td>\n",
              "      <td>NaN</td>\n",
              "      <td>F</td>\n",
              "      <td>White</td>\n",
              "      <td>Speeding</td>\n",
              "      <td>Speeding</td>\n",
              "      <td>False</td>\n",
              "      <td>NaN</td>\n",
              "      <td>Citation</td>\n",
              "      <td>False</td>\n",
              "      <td>0-15 Min</td>\n",
              "      <td>False</td>\n",
              "      <td>Zone X3</td>\n",
              "    </tr>\n",
              "  </tbody>\n",
              "</table>\n",
              "</div>\n",
              "      <button class=\"colab-df-convert\" onclick=\"convertToInteractive('df-29e3a318-cb0c-4b5d-a82b-8e5bfd9cdd72')\"\n",
              "              title=\"Convert this dataframe to an interactive table.\"\n",
              "              style=\"display:none;\">\n",
              "        \n",
              "  <svg xmlns=\"http://www.w3.org/2000/svg\" height=\"24px\"viewBox=\"0 0 24 24\"\n",
              "       width=\"24px\">\n",
              "    <path d=\"M0 0h24v24H0V0z\" fill=\"none\"/>\n",
              "    <path d=\"M18.56 5.44l.94 2.06.94-2.06 2.06-.94-2.06-.94-.94-2.06-.94 2.06-2.06.94zm-11 1L8.5 8.5l.94-2.06 2.06-.94-2.06-.94L8.5 2.5l-.94 2.06-2.06.94zm10 10l.94 2.06.94-2.06 2.06-.94-2.06-.94-.94-2.06-.94 2.06-2.06.94z\"/><path d=\"M17.41 7.96l-1.37-1.37c-.4-.4-.92-.59-1.43-.59-.52 0-1.04.2-1.43.59L10.3 9.45l-7.72 7.72c-.78.78-.78 2.05 0 2.83L4 21.41c.39.39.9.59 1.41.59.51 0 1.02-.2 1.41-.59l7.78-7.78 2.81-2.81c.8-.78.8-2.07 0-2.86zM5.41 20L4 18.59l7.72-7.72 1.47 1.35L5.41 20z\"/>\n",
              "  </svg>\n",
              "      </button>\n",
              "      \n",
              "  <style>\n",
              "    .colab-df-container {\n",
              "      display:flex;\n",
              "      flex-wrap:wrap;\n",
              "      gap: 12px;\n",
              "    }\n",
              "\n",
              "    .colab-df-convert {\n",
              "      background-color: #E8F0FE;\n",
              "      border: none;\n",
              "      border-radius: 50%;\n",
              "      cursor: pointer;\n",
              "      display: none;\n",
              "      fill: #1967D2;\n",
              "      height: 32px;\n",
              "      padding: 0 0 0 0;\n",
              "      width: 32px;\n",
              "    }\n",
              "\n",
              "    .colab-df-convert:hover {\n",
              "      background-color: #E2EBFA;\n",
              "      box-shadow: 0px 1px 2px rgba(60, 64, 67, 0.3), 0px 1px 3px 1px rgba(60, 64, 67, 0.15);\n",
              "      fill: #174EA6;\n",
              "    }\n",
              "\n",
              "    [theme=dark] .colab-df-convert {\n",
              "      background-color: #3B4455;\n",
              "      fill: #D2E3FC;\n",
              "    }\n",
              "\n",
              "    [theme=dark] .colab-df-convert:hover {\n",
              "      background-color: #434B5C;\n",
              "      box-shadow: 0px 1px 3px 1px rgba(0, 0, 0, 0.15);\n",
              "      filter: drop-shadow(0px 1px 2px rgba(0, 0, 0, 0.3));\n",
              "      fill: #FFFFFF;\n",
              "    }\n",
              "  </style>\n",
              "\n",
              "      <script>\n",
              "        const buttonEl =\n",
              "          document.querySelector('#df-29e3a318-cb0c-4b5d-a82b-8e5bfd9cdd72 button.colab-df-convert');\n",
              "        buttonEl.style.display =\n",
              "          google.colab.kernel.accessAllowed ? 'block' : 'none';\n",
              "\n",
              "        async function convertToInteractive(key) {\n",
              "          const element = document.querySelector('#df-29e3a318-cb0c-4b5d-a82b-8e5bfd9cdd72');\n",
              "          const dataTable =\n",
              "            await google.colab.kernel.invokeFunction('convertToInteractive',\n",
              "                                                     [key], {});\n",
              "          if (!dataTable) return;\n",
              "\n",
              "          const docLinkHtml = 'Like what you see? Visit the ' +\n",
              "            '<a target=\"_blank\" href=https://colab.research.google.com/notebooks/data_table.ipynb>data table notebook</a>'\n",
              "            + ' to learn more about interactive tables.';\n",
              "          element.innerHTML = '';\n",
              "          dataTable['output_type'] = 'display_data';\n",
              "          await google.colab.output.renderOutput(dataTable, element);\n",
              "          const docLink = document.createElement('div');\n",
              "          docLink.innerHTML = docLinkHtml;\n",
              "          element.appendChild(docLink);\n",
              "        }\n",
              "      </script>\n",
              "    </div>\n",
              "  </div>\n",
              "  "
            ],
            "text/plain": [
              "  state  stop_date stop_time  ...  stop_duration drugs_related_stop district\n",
              "0    RI 2005-01-04     12:55  ...       0-15 Min              False  Zone X4\n",
              "1    RI 2005-01-23     23:15  ...       0-15 Min              False  Zone K3\n",
              "2    RI 2005-02-17     04:15  ...       0-15 Min              False  Zone X4\n",
              "3    RI 2005-02-20     17:15  ...      16-30 Min              False  Zone X1\n",
              "4    RI 2005-02-24     01:20  ...       0-15 Min              False  Zone X3\n",
              "\n",
              "[5 rows x 15 columns]"
            ]
          },
          "metadata": {}
        },
        {
          "output_type": "stream",
          "name": "stdout",
          "text": [
            "state                     0\n",
            "stop_date                 0\n",
            "stop_time                 0\n",
            "county_name           91741\n",
            "driver_gender          5205\n",
            "driver_race            5202\n",
            "violation_raw          5202\n",
            "violation              5202\n",
            "search_conducted          0\n",
            "search_type           88434\n",
            "stop_outcome           5202\n",
            "is_arrested            5202\n",
            "stop_duration          5202\n",
            "drugs_related_stop        0\n",
            "district                  0\n",
            "dtype: int64\n"
          ]
        }
      ]
    },
    {
      "cell_type": "markdown",
      "source": [
        "It looks like most of the columns have at least some missing values.\n",
        "\n",
        "### ***Dropping columns***\n",
        "\n",
        "Often, a DataFrame will contain columns that are not useful to your analysis. Such columns should be dropped from the DataFrame, to make it easier for you to focus on the remaining columns.\n",
        "\n",
        "In this exercise, you'll drop the `county_name` column because it only contains missing values, and you'll drop the `statev column because all of the traffic stops took place in one state (Rhode Island). Thus, these columns can be dropped because they contain no useful information. \n",
        "\n",
        "* Examine the DataFrame's **`.shape`** to find out the number of rows and columns.\n",
        "* Drop both the `county_name` and `state` columns by passing the column names to the **`.drop()`** method as a list of strings.\n",
        "* Examine the **`.shape`** again to verify that there are now two fewer columns."
      ],
      "metadata": {
        "id": "hr0KjxIK4Yyb"
      }
    },
    {
      "cell_type": "code",
      "source": [
        "# Import the pandas library as pd\n",
        "import pandas as pd\n",
        "\n",
        "# Read 'police.csv' into a DataFrame named ri\n",
        "ri = pd.read_csv('police.csv', parse_dates=['stop_date'])\n",
        "\n",
        "# Examine the shape of the DataFrame\n",
        "print(ri.shape)\n",
        "\n",
        "# Drop the 'county_name' and 'state' columns\n",
        "ri.drop(['county_name', 'state'], axis='columns', inplace=True)\n",
        "\n",
        "# Examine the shape of the DataFrame (again)\n",
        "print(ri.shape)"
      ],
      "metadata": {
        "colab": {
          "base_uri": "https://localhost:8080/"
        },
        "id": "LzvXG38s47YQ",
        "outputId": "e27a5af7-efcf-4c49-f7c0-f329f1c606aa"
      },
      "execution_count": 10,
      "outputs": [
        {
          "output_type": "stream",
          "name": "stdout",
          "text": [
            "(91741, 15)\n",
            "(91741, 13)\n"
          ]
        }
      ]
    },
    {
      "cell_type": "markdown",
      "source": [
        "### ***Dropping rows***\n",
        "\n",
        "When you know that a specific column will be critical to your analysis, and only a small fraction of rows are missing a value in that column, it often makes sense to remove those rows from the dataset.\n",
        "\n",
        "During this course, the `driver_gender` column will be critical to many of your analyses. Because only a small fraction of rows are missing `driver_gender`, we'll drop those rows from the dataset.\n",
        "\n",
        "\n",
        "* Count the number of missing values in each column.\n",
        "* Drop all rows that are missing `driver_gender` by passing the column name to the subset parameter of **`.dropna()`**.\n",
        "* Count the number of missing values in each column again, to verify that none of the remaining rows are missing `driver_gender`.\n",
        "* Examine the DataFrame's **`.shape`** to see how many rows and columns remain."
      ],
      "metadata": {
        "id": "cjAexeqt5QRW"
      }
    },
    {
      "cell_type": "code",
      "source": [
        "# Import the pandas library as pd\n",
        "import pandas as pd\n",
        "\n",
        "# Read 'police.csv' into a DataFrame named ri\n",
        "ri = pd.read_csv('police.csv', parse_dates=['stop_date'])\n",
        "\n",
        "# Drop the 'county_name' and 'state' columns\n",
        "ri.drop(['county_name', 'state'], axis='columns', inplace=True)\n",
        "\n",
        "# Count the number of missing values in each column\n",
        "print(ri.isnull().sum(), \"\\n\\n\")\n",
        "\n",
        "# Drop all rows that are missing 'driver_gender'\n",
        "ri.dropna(subset=['driver_gender'], inplace=True)\n",
        "\n",
        "# Count the number of missing values in each column (again)\n",
        "print(ri.isnull().sum())\n",
        "\n",
        "# Examine the shape of the DataFrame\n",
        "print(ri.shape)"
      ],
      "metadata": {
        "colab": {
          "base_uri": "https://localhost:8080/"
        },
        "id": "Sb0UhK9w5Mb8",
        "outputId": "f462a178-c9b2-4d5f-8c37-fd095b4f35c5"
      },
      "execution_count": 12,
      "outputs": [
        {
          "output_type": "stream",
          "name": "stdout",
          "text": [
            "stop_date                 0\n",
            "stop_time                 0\n",
            "driver_gender          5205\n",
            "driver_race            5202\n",
            "violation_raw          5202\n",
            "violation              5202\n",
            "search_conducted          0\n",
            "search_type           88434\n",
            "stop_outcome           5202\n",
            "is_arrested            5202\n",
            "stop_duration          5202\n",
            "drugs_related_stop        0\n",
            "district                  0\n",
            "dtype: int64 \n",
            "\n",
            "\n",
            "stop_date                 0\n",
            "stop_time                 0\n",
            "driver_gender             0\n",
            "driver_race               0\n",
            "violation_raw             0\n",
            "violation                 0\n",
            "search_conducted          0\n",
            "search_type           83229\n",
            "stop_outcome              0\n",
            "is_arrested               0\n",
            "stop_duration             0\n",
            "drugs_related_stop        0\n",
            "district                  0\n",
            "dtype: int64\n",
            "(86536, 13)\n"
          ]
        }
      ]
    },
    {
      "cell_type": "markdown",
      "source": [
        "We dropped around 5,000 rows, which is a small fraction of the dataset, and now only one column remains with any missing values.\n",
        "\n",
        "### ***Fixing a data type***\n",
        "\n",
        "We saw in the previous exercise that the `is_arrested` column currently has the `object` data type. In this exercise, we'll change the data type to `bool`, which is the most suitable type for a column containing `True` and `False` values.\n",
        "\n",
        "Fixing the data type will enable us to use mathematical operations on the `is_arrested` column that would not be possible otherwise.\n",
        "\n",
        "* Examine the head of the `is_arrested` column to verify that it contains `True` and `False` values and to check the column's data type.\n",
        "* Use the **`.astype()`** method to convert `is_arrested` to a `bool` column.\n",
        "* Check the new data type of `is_arrested` to confirm that it is now a `bool` column."
      ],
      "metadata": {
        "id": "26aBuO5T6PqM"
      }
    },
    {
      "cell_type": "code",
      "source": [
        "# Import the pandas library as pd\n",
        "import pandas as pd\n",
        "\n",
        "ri = pd.read_csv('police.csv', parse_dates=['stop_date'])\n",
        "ri.drop(['county_name', 'state'], axis='columns', inplace=True)\n",
        "ri.dropna(subset=['driver_gender'], inplace=True)\n",
        "\n",
        "# Examine the head of the 'is_arrested' column\n",
        "print(ri.is_arrested.head())\n",
        "\n",
        "# Change the data type of 'is_arrested' to 'bool'\n",
        "ri['is_arrested'] = ri['is_arrested'].astype('bool')\n",
        "\n",
        "# Check the data type of 'is_arrested' \n",
        "print(ri['is_arrested'].dtype)"
      ],
      "metadata": {
        "colab": {
          "base_uri": "https://localhost:8080/"
        },
        "id": "Xe6nhKjL6E20",
        "outputId": "66fa0293-1812-4a8c-e20f-c10cd93445f7"
      },
      "execution_count": 1,
      "outputs": [
        {
          "output_type": "stream",
          "name": "stdout",
          "text": [
            "0    False\n",
            "1    False\n",
            "2    False\n",
            "3     True\n",
            "4    False\n",
            "Name: is_arrested, dtype: object\n",
            "bool\n"
          ]
        }
      ]
    },
    {
      "cell_type": "markdown",
      "source": [
        "# ***Combining Object Columns***"
      ],
      "metadata": {
        "id": "vTxb0ysjuPlk"
      }
    },
    {
      "cell_type": "code",
      "source": [
        "combined = df['col1'].str.cat(df['col2'], sep=' ')"
      ],
      "metadata": {
        "id": "CJFPHWEQtKtv"
      },
      "execution_count": null,
      "outputs": []
    },
    {
      "cell_type": "markdown",
      "source": [
        "### ***Combining object columns***\n",
        "\n",
        "Currently, the date and time of each traffic stop are stored in separate object columns: `stop_date` and `stop_time`.\n",
        "\n",
        "In this exercise, you'll combine these two columns into a single column, and then convert it to `datetime` format. This will enable convenient date-based attributes that we'll use later in the course.\n",
        "\n",
        "* Use a string method to concatenate `stop_date` and `stop_time` (separated by a space), and store the result in `combined`.\n",
        "* Convert combined to `datetime` format, and store the result in a new column named `stop_datetime`.\n",
        "* Examine the DataFrame **`.dtypes`** to confirm that `stop_datetime` is a `datetime` column."
      ],
      "metadata": {
        "id": "T0a_My29u9sa"
      }
    },
    {
      "cell_type": "code",
      "source": [
        "# Import the pandas library as pd\n",
        "import pandas as pd\n",
        "\n",
        "\n",
        "ri = pd.read_csv('police.csv')\n",
        "ri.drop(['county_name', 'state'], axis='columns', inplace=True)\n",
        "ri.dropna(subset=['driver_gender'], inplace=True)\n",
        "ri['is_arrested'] = ri['is_arrested'].astype('bool')\n",
        "\n",
        "# Concatenate 'stop_date' and 'stop_time' (separated by a space)\n",
        "combined = ri['stop_date'].str.cat(ri['stop_time'], sep=' ')\n",
        "\n",
        "# Convert 'combined' to datetime format\n",
        "ri['stop_datetime'] = pd.to_datetime(combined)\n",
        "\n",
        "# Examine the data types of the DataFrame\n",
        "print(ri.dtypes)"
      ],
      "metadata": {
        "colab": {
          "base_uri": "https://localhost:8080/"
        },
        "id": "G1Ad6hV3vWeF",
        "outputId": "397c8f52-3cb5-40fa-8f6f-47fc2c0edcab"
      },
      "execution_count": 2,
      "outputs": [
        {
          "output_type": "stream",
          "name": "stdout",
          "text": [
            "stop_date                     object\n",
            "stop_time                     object\n",
            "driver_gender                 object\n",
            "driver_race                   object\n",
            "violation_raw                 object\n",
            "violation                     object\n",
            "search_conducted                bool\n",
            "search_type                   object\n",
            "stop_outcome                  object\n",
            "is_arrested                     bool\n",
            "stop_duration                 object\n",
            "drugs_related_stop              bool\n",
            "district                      object\n",
            "stop_datetime         datetime64[ns]\n",
            "dtype: object\n"
          ]
        }
      ]
    },
    {
      "cell_type": "markdown",
      "source": [
        "### ***Setting the index***\n",
        "\n",
        "The last step that you'll take in this chapter is to set the `stop_datetime` column as the DataFrame's index. By replacing the default index with a `DatetimeIndex`, you'll make it easier to analyze the dataset by date and time, which will come in handy later in the course!\n",
        "\n",
        "* Set `stop_datetime` as the DataFrame index.\n",
        "* Examine the index to verify that it is a `DatetimeIndex`.\n",
        "* Examine the DataFrame columns to confirm that `stop_datetime` is no longer one of the columns."
      ],
      "metadata": {
        "id": "_Zwo2e1AwBPv"
      }
    },
    {
      "cell_type": "code",
      "source": [
        "import pandas as pd\n",
        "\n",
        "ri = pd.read_csv('police.csv')\n",
        "ri.drop(['county_name', 'state'], axis='columns', inplace=True)\n",
        "ri.dropna(subset=['driver_gender'], inplace=True)\n",
        "ri['is_arrested'] = ri['is_arrested'].astype('bool')\n",
        "combined = ri['stop_date'].str.cat(ri['stop_time'], sep=' ')\n",
        "ri['stop_datetime'] = pd.to_datetime(combined)\n",
        "\n",
        "# Set 'stop_datetime' as the index\n",
        "ri.set_index('stop_datetime', inplace=True)\n",
        "\n",
        "# Examine the index\n",
        "print(ri.index)\n",
        "\n",
        "# Examine the columns\n",
        "print(ri.columns)"
      ],
      "metadata": {
        "colab": {
          "base_uri": "https://localhost:8080/"
        },
        "id": "vsH2rtzSv2xj",
        "outputId": "6dba1077-5113-499e-b96d-25e955ee37db"
      },
      "execution_count": 3,
      "outputs": [
        {
          "output_type": "stream",
          "name": "stdout",
          "text": [
            "DatetimeIndex(['2005-01-04 12:55:00', '2005-01-23 23:15:00',\n",
            "               '2005-02-17 04:15:00', '2005-02-20 17:15:00',\n",
            "               '2005-02-24 01:20:00', '2005-03-14 10:00:00',\n",
            "               '2005-03-29 21:55:00', '2005-04-04 21:25:00',\n",
            "               '2005-07-14 11:20:00', '2005-07-14 19:55:00',\n",
            "               ...\n",
            "               '2015-12-31 13:23:00', '2015-12-31 18:59:00',\n",
            "               '2015-12-31 19:13:00', '2015-12-31 20:20:00',\n",
            "               '2015-12-31 20:50:00', '2015-12-31 21:21:00',\n",
            "               '2015-12-31 21:59:00', '2015-12-31 22:04:00',\n",
            "               '2015-12-31 22:09:00', '2015-12-31 22:47:00'],\n",
            "              dtype='datetime64[ns]', name='stop_datetime', length=86536, freq=None)\n",
            "Index(['stop_date', 'stop_time', 'driver_gender', 'driver_race',\n",
            "       'violation_raw', 'violation', 'search_conducted', 'search_type',\n",
            "       'stop_outcome', 'is_arrested', 'stop_duration', 'drugs_related_stop',\n",
            "       'district'],\n",
            "      dtype='object')\n"
          ]
        }
      ]
    },
    {
      "cell_type": "markdown",
      "source": [
        "# ***Counting unique values***\n",
        "\n"
      ],
      "metadata": {
        "id": "-iqxTmYH6azs"
      }
    },
    {
      "cell_type": "code",
      "source": [
        "import pandas as pd\n",
        "pd.options.display.float_format = '{:,.2f}'.format\n",
        "\n",
        "ri = pd.read_csv('police.csv')\n",
        "ri.drop(['county_name', 'state'], axis='columns', inplace=True)\n",
        "ri.dropna(subset=['driver_gender'], inplace=True)\n",
        "ri['is_arrested'] = ri['is_arrested'].astype('bool')\n",
        "combined = ri['stop_date'].str.cat(ri['stop_time'], sep=' ')\n",
        "ri['stop_datetime'] = pd.to_datetime(combined)\n",
        "ri.set_index('stop_datetime', inplace=True)\n",
        "\n",
        "ri['stop_outcome'].value_counts()"
      ],
      "metadata": {
        "colab": {
          "base_uri": "https://localhost:8080/"
        },
        "id": "IILLKhCcw4co",
        "outputId": "18a59acc-0bd6-4d9f-c5e5-34b86fc40548"
      },
      "execution_count": 7,
      "outputs": [
        {
          "output_type": "execute_result",
          "data": {
            "text/plain": [
              "Citation            77091\n",
              "Warning              5136\n",
              "Arrest Driver        2735\n",
              "No Action             624\n",
              "N/D                   607\n",
              "Arrest Passenger      343\n",
              "Name: stop_outcome, dtype: int64"
            ]
          },
          "metadata": {},
          "execution_count": 7
        }
      ]
    },
    {
      "cell_type": "markdown",
      "source": [
        "# ***Expressing counts as percentages***"
      ],
      "metadata": {
        "id": "yVI3c6r67BKt"
      }
    },
    {
      "cell_type": "code",
      "source": [
        "ri['stop_outcome'].value_counts(normalize=True)*100"
      ],
      "metadata": {
        "colab": {
          "base_uri": "https://localhost:8080/"
        },
        "id": "dxs8jfE-6q9x",
        "outputId": "8c10c033-d9b2-41f7-d92a-6e7895d0fcfd"
      },
      "execution_count": 8,
      "outputs": [
        {
          "output_type": "execute_result",
          "data": {
            "text/plain": [
              "Citation           89.09\n",
              "Warning             5.94\n",
              "Arrest Driver       3.16\n",
              "No Action           0.72\n",
              "N/D                 0.70\n",
              "Arrest Passenger    0.40\n",
              "Name: stop_outcome, dtype: float64"
            ]
          },
          "metadata": {},
          "execution_count": 8
        }
      ]
    },
    {
      "cell_type": "markdown",
      "source": [
        "# ***Filtering DataFrame rows***"
      ],
      "metadata": {
        "id": "yDNw84_s7kzt"
      }
    },
    {
      "cell_type": "code",
      "source": [
        "print(ri['driver_race'].value_counts())\n",
        "ri[ri['driver_race'] == 'White'].head()"
      ],
      "metadata": {
        "colab": {
          "base_uri": "https://localhost:8080/",
          "height": 497
        },
        "id": "UBNBTKgv7JT0",
        "outputId": "7cd83e6b-509e-4fa6-c876-506d10ed0bd1"
      },
      "execution_count": 10,
      "outputs": [
        {
          "output_type": "stream",
          "name": "stdout",
          "text": [
            "White       61870\n",
            "Black       12285\n",
            "Hispanic     9727\n",
            "Asian        2389\n",
            "Other         265\n",
            "Name: driver_race, dtype: int64\n"
          ]
        },
        {
          "output_type": "execute_result",
          "data": {
            "text/html": [
              "\n",
              "  <div id=\"df-fc5724b2-6e4a-4db8-8e8c-7426f0cef201\">\n",
              "    <div class=\"colab-df-container\">\n",
              "      <div>\n",
              "<style scoped>\n",
              "    .dataframe tbody tr th:only-of-type {\n",
              "        vertical-align: middle;\n",
              "    }\n",
              "\n",
              "    .dataframe tbody tr th {\n",
              "        vertical-align: top;\n",
              "    }\n",
              "\n",
              "    .dataframe thead th {\n",
              "        text-align: right;\n",
              "    }\n",
              "</style>\n",
              "<table border=\"1\" class=\"dataframe\">\n",
              "  <thead>\n",
              "    <tr style=\"text-align: right;\">\n",
              "      <th></th>\n",
              "      <th>stop_date</th>\n",
              "      <th>stop_time</th>\n",
              "      <th>driver_gender</th>\n",
              "      <th>driver_race</th>\n",
              "      <th>violation_raw</th>\n",
              "      <th>violation</th>\n",
              "      <th>search_conducted</th>\n",
              "      <th>search_type</th>\n",
              "      <th>stop_outcome</th>\n",
              "      <th>is_arrested</th>\n",
              "      <th>stop_duration</th>\n",
              "      <th>drugs_related_stop</th>\n",
              "      <th>district</th>\n",
              "    </tr>\n",
              "    <tr>\n",
              "      <th>stop_datetime</th>\n",
              "      <th></th>\n",
              "      <th></th>\n",
              "      <th></th>\n",
              "      <th></th>\n",
              "      <th></th>\n",
              "      <th></th>\n",
              "      <th></th>\n",
              "      <th></th>\n",
              "      <th></th>\n",
              "      <th></th>\n",
              "      <th></th>\n",
              "      <th></th>\n",
              "      <th></th>\n",
              "    </tr>\n",
              "  </thead>\n",
              "  <tbody>\n",
              "    <tr>\n",
              "      <th>2005-01-04 12:55:00</th>\n",
              "      <td>2005-01-04</td>\n",
              "      <td>12:55</td>\n",
              "      <td>M</td>\n",
              "      <td>White</td>\n",
              "      <td>Equipment/Inspection Violation</td>\n",
              "      <td>Equipment</td>\n",
              "      <td>False</td>\n",
              "      <td>NaN</td>\n",
              "      <td>Citation</td>\n",
              "      <td>False</td>\n",
              "      <td>0-15 Min</td>\n",
              "      <td>False</td>\n",
              "      <td>Zone X4</td>\n",
              "    </tr>\n",
              "    <tr>\n",
              "      <th>2005-01-23 23:15:00</th>\n",
              "      <td>2005-01-23</td>\n",
              "      <td>23:15</td>\n",
              "      <td>M</td>\n",
              "      <td>White</td>\n",
              "      <td>Speeding</td>\n",
              "      <td>Speeding</td>\n",
              "      <td>False</td>\n",
              "      <td>NaN</td>\n",
              "      <td>Citation</td>\n",
              "      <td>False</td>\n",
              "      <td>0-15 Min</td>\n",
              "      <td>False</td>\n",
              "      <td>Zone K3</td>\n",
              "    </tr>\n",
              "    <tr>\n",
              "      <th>2005-02-17 04:15:00</th>\n",
              "      <td>2005-02-17</td>\n",
              "      <td>04:15</td>\n",
              "      <td>M</td>\n",
              "      <td>White</td>\n",
              "      <td>Speeding</td>\n",
              "      <td>Speeding</td>\n",
              "      <td>False</td>\n",
              "      <td>NaN</td>\n",
              "      <td>Citation</td>\n",
              "      <td>False</td>\n",
              "      <td>0-15 Min</td>\n",
              "      <td>False</td>\n",
              "      <td>Zone X4</td>\n",
              "    </tr>\n",
              "    <tr>\n",
              "      <th>2005-02-20 17:15:00</th>\n",
              "      <td>2005-02-20</td>\n",
              "      <td>17:15</td>\n",
              "      <td>M</td>\n",
              "      <td>White</td>\n",
              "      <td>Call for Service</td>\n",
              "      <td>Other</td>\n",
              "      <td>False</td>\n",
              "      <td>NaN</td>\n",
              "      <td>Arrest Driver</td>\n",
              "      <td>True</td>\n",
              "      <td>16-30 Min</td>\n",
              "      <td>False</td>\n",
              "      <td>Zone X1</td>\n",
              "    </tr>\n",
              "    <tr>\n",
              "      <th>2005-02-24 01:20:00</th>\n",
              "      <td>2005-02-24</td>\n",
              "      <td>01:20</td>\n",
              "      <td>F</td>\n",
              "      <td>White</td>\n",
              "      <td>Speeding</td>\n",
              "      <td>Speeding</td>\n",
              "      <td>False</td>\n",
              "      <td>NaN</td>\n",
              "      <td>Citation</td>\n",
              "      <td>False</td>\n",
              "      <td>0-15 Min</td>\n",
              "      <td>False</td>\n",
              "      <td>Zone X3</td>\n",
              "    </tr>\n",
              "  </tbody>\n",
              "</table>\n",
              "</div>\n",
              "      <button class=\"colab-df-convert\" onclick=\"convertToInteractive('df-fc5724b2-6e4a-4db8-8e8c-7426f0cef201')\"\n",
              "              title=\"Convert this dataframe to an interactive table.\"\n",
              "              style=\"display:none;\">\n",
              "        \n",
              "  <svg xmlns=\"http://www.w3.org/2000/svg\" height=\"24px\"viewBox=\"0 0 24 24\"\n",
              "       width=\"24px\">\n",
              "    <path d=\"M0 0h24v24H0V0z\" fill=\"none\"/>\n",
              "    <path d=\"M18.56 5.44l.94 2.06.94-2.06 2.06-.94-2.06-.94-.94-2.06-.94 2.06-2.06.94zm-11 1L8.5 8.5l.94-2.06 2.06-.94-2.06-.94L8.5 2.5l-.94 2.06-2.06.94zm10 10l.94 2.06.94-2.06 2.06-.94-2.06-.94-.94-2.06-.94 2.06-2.06.94z\"/><path d=\"M17.41 7.96l-1.37-1.37c-.4-.4-.92-.59-1.43-.59-.52 0-1.04.2-1.43.59L10.3 9.45l-7.72 7.72c-.78.78-.78 2.05 0 2.83L4 21.41c.39.39.9.59 1.41.59.51 0 1.02-.2 1.41-.59l7.78-7.78 2.81-2.81c.8-.78.8-2.07 0-2.86zM5.41 20L4 18.59l7.72-7.72 1.47 1.35L5.41 20z\"/>\n",
              "  </svg>\n",
              "      </button>\n",
              "      \n",
              "  <style>\n",
              "    .colab-df-container {\n",
              "      display:flex;\n",
              "      flex-wrap:wrap;\n",
              "      gap: 12px;\n",
              "    }\n",
              "\n",
              "    .colab-df-convert {\n",
              "      background-color: #E8F0FE;\n",
              "      border: none;\n",
              "      border-radius: 50%;\n",
              "      cursor: pointer;\n",
              "      display: none;\n",
              "      fill: #1967D2;\n",
              "      height: 32px;\n",
              "      padding: 0 0 0 0;\n",
              "      width: 32px;\n",
              "    }\n",
              "\n",
              "    .colab-df-convert:hover {\n",
              "      background-color: #E2EBFA;\n",
              "      box-shadow: 0px 1px 2px rgba(60, 64, 67, 0.3), 0px 1px 3px 1px rgba(60, 64, 67, 0.15);\n",
              "      fill: #174EA6;\n",
              "    }\n",
              "\n",
              "    [theme=dark] .colab-df-convert {\n",
              "      background-color: #3B4455;\n",
              "      fill: #D2E3FC;\n",
              "    }\n",
              "\n",
              "    [theme=dark] .colab-df-convert:hover {\n",
              "      background-color: #434B5C;\n",
              "      box-shadow: 0px 1px 3px 1px rgba(0, 0, 0, 0.15);\n",
              "      filter: drop-shadow(0px 1px 2px rgba(0, 0, 0, 0.3));\n",
              "      fill: #FFFFFF;\n",
              "    }\n",
              "  </style>\n",
              "\n",
              "      <script>\n",
              "        const buttonEl =\n",
              "          document.querySelector('#df-fc5724b2-6e4a-4db8-8e8c-7426f0cef201 button.colab-df-convert');\n",
              "        buttonEl.style.display =\n",
              "          google.colab.kernel.accessAllowed ? 'block' : 'none';\n",
              "\n",
              "        async function convertToInteractive(key) {\n",
              "          const element = document.querySelector('#df-fc5724b2-6e4a-4db8-8e8c-7426f0cef201');\n",
              "          const dataTable =\n",
              "            await google.colab.kernel.invokeFunction('convertToInteractive',\n",
              "                                                     [key], {});\n",
              "          if (!dataTable) return;\n",
              "\n",
              "          const docLinkHtml = 'Like what you see? Visit the ' +\n",
              "            '<a target=\"_blank\" href=https://colab.research.google.com/notebooks/data_table.ipynb>data table notebook</a>'\n",
              "            + ' to learn more about interactive tables.';\n",
              "          element.innerHTML = '';\n",
              "          dataTable['output_type'] = 'display_data';\n",
              "          await google.colab.output.renderOutput(dataTable, element);\n",
              "          const docLink = document.createElement('div');\n",
              "          docLink.innerHTML = docLinkHtml;\n",
              "          element.appendChild(docLink);\n",
              "        }\n",
              "      </script>\n",
              "    </div>\n",
              "  </div>\n",
              "  "
            ],
            "text/plain": [
              "                      stop_date stop_time  ... drugs_related_stop district\n",
              "stop_datetime                              ...                            \n",
              "2005-01-04 12:55:00  2005-01-04     12:55  ...              False  Zone X4\n",
              "2005-01-23 23:15:00  2005-01-23     23:15  ...              False  Zone K3\n",
              "2005-02-17 04:15:00  2005-02-17     04:15  ...              False  Zone X4\n",
              "2005-02-20 17:15:00  2005-02-20     17:15  ...              False  Zone X1\n",
              "2005-02-24 01:20:00  2005-02-24     01:20  ...              False  Zone X3\n",
              "\n",
              "[5 rows x 13 columns]"
            ]
          },
          "metadata": {},
          "execution_count": 10
        }
      ]
    },
    {
      "cell_type": "markdown",
      "source": [
        "# ***Comparing stop outcomes for two groups***"
      ],
      "metadata": {
        "id": "luCGYxhb8GmU"
      }
    },
    {
      "cell_type": "code",
      "source": [
        "white = ri[ri['driver_race'] == 'White']\n",
        "asian = ri[ri['driver_race'] == 'Asian']\n",
        "print(white.stop_outcome.value_counts(normalize=True)*100)\n",
        "print(asian.stop_outcome.value_counts(normalize=True)*100)"
      ],
      "metadata": {
        "colab": {
          "base_uri": "https://localhost:8080/"
        },
        "id": "YFVIDq-87utH",
        "outputId": "fdc005ef-7e80-4ad4-9c91-23ccc812b3f8"
      },
      "execution_count": 11,
      "outputs": [
        {
          "output_type": "stream",
          "name": "stdout",
          "text": [
            "Citation           90.23\n",
            "Warning             5.75\n",
            "Arrest Driver       2.40\n",
            "No Action           0.70\n",
            "N/D                 0.64\n",
            "Arrest Passenger    0.27\n",
            "Name: stop_outcome, dtype: float64\n",
            "Citation           92.30\n",
            "Warning             4.52\n",
            "Arrest Driver       1.76\n",
            "No Action           0.84\n",
            "N/D                 0.42\n",
            "Arrest Passenger    0.17\n",
            "Name: stop_outcome, dtype: float64\n"
          ]
        }
      ]
    },
    {
      "cell_type": "markdown",
      "source": [
        "### ***Examining traffic violations***\n",
        "\n",
        "Before comparing the violations being committed by each gender, you should examine the violations committed by all drivers to get a baseline understanding of the data.\n",
        "\n",
        "In this exercise, you'll count the unique values in the violation column, and then separately express those counts as proportions.\n",
        "\n",
        "* Count the unique values in the violation column of the `ri` DataFrame, to see what violations are being committed by all drivers.\n",
        "* Express the violation counts as proportions of the total."
      ],
      "metadata": {
        "id": "c8eVGK0l8v8z"
      }
    },
    {
      "cell_type": "code",
      "source": [
        "import pandas as pd\n",
        "pd.options.display.float_format = '{:,.2f}'.format\n",
        "\n",
        "ri = pd.read_csv('police.csv')\n",
        "ri.drop(['county_name', 'state'], axis='columns', inplace=True)\n",
        "ri.dropna(subset=['driver_gender'], inplace=True)\n",
        "ri['is_arrested'] = ri['is_arrested'].astype('bool')\n",
        "combined = ri['stop_date'].str.cat(ri['stop_time'], sep=' ')\n",
        "ri['stop_datetime'] = pd.to_datetime(combined)\n",
        "ri.set_index('stop_datetime', inplace=True)\n",
        "\n",
        "# Count the unique values in 'violation'\n",
        "print(ri['violation'].value_counts())\n",
        "\n",
        "# Express the counts as proportions\n",
        "print(ri['violation'].value_counts(normalize=True))"
      ],
      "metadata": {
        "colab": {
          "base_uri": "https://localhost:8080/"
        },
        "id": "YJxNGacj8erf",
        "outputId": "daf8e352-6755-4119-b1d6-6c5f6af0d5e7"
      },
      "execution_count": 18,
      "outputs": [
        {
          "output_type": "stream",
          "name": "stdout",
          "text": [
            "Speeding               48423\n",
            "Moving violation       16224\n",
            "Equipment              10921\n",
            "Other                   4409\n",
            "Registration/plates     3703\n",
            "Seat belt               2856\n",
            "Name: violation, dtype: int64\n",
            "Speeding              0.56\n",
            "Moving violation      0.19\n",
            "Equipment             0.13\n",
            "Other                 0.05\n",
            "Registration/plates   0.04\n",
            "Seat belt             0.03\n",
            "Name: violation, dtype: float64\n"
          ]
        }
      ]
    },
    {
      "cell_type": "markdown",
      "source": [
        "More than half of all violations are for speeding, followed by other moving violations and equipment violations.\n",
        "\n",
        "### ***Comparing violations by gender***\n",
        "\n",
        "The question we're trying to answer is whether `male` and `female` drivers tend to commit different types of traffic violations.\n",
        "\n",
        "In this exercise, you'll first create a DataFrame for each gender, and then analyze the violations in each DataFrame separately.\n",
        "\n",
        "\n",
        "* Create a DataFrame, `female`, that only contains rows in which `driver_gender` is `'F'`.\n",
        "* Create a DataFrame, `male`, that only contains rows in which `driver_gender` is `'M'`.\n",
        "* Count the violations committed by `female` drivers and express them as proportions.\n",
        "* Count the violations committed by `male` drivers and express them as proportions."
      ],
      "metadata": {
        "id": "2FoJ2iDx9vMy"
      }
    },
    {
      "cell_type": "code",
      "source": [
        "import pandas as pd\n",
        "pd.options.display.float_format = '{:,.2f}'.format\n",
        "\n",
        "ri = pd.read_csv('police.csv')\n",
        "ri.drop(['county_name', 'state'], axis='columns', inplace=True)\n",
        "ri.dropna(subset=['driver_gender'], inplace=True)\n",
        "ri['is_arrested'] = ri['is_arrested'].astype('bool')\n",
        "combined = ri['stop_date'].str.cat(ri['stop_time'], sep=' ')\n",
        "ri['stop_datetime'] = pd.to_datetime(combined)\n",
        "ri.set_index('stop_datetime', inplace=True)\n",
        "\n",
        "# Create a DataFrame of female drivers\n",
        "female = ri[ri['driver_gender'] == 'F']\n",
        "\n",
        "# Create a DataFrame of male drivers\n",
        "male = ri[ri['driver_gender'] == 'M']\n",
        "\n",
        "# Compute the violations by female drivers (as proportions)\n",
        "print(female['violation'].value_counts(normalize=True))\n",
        "\n",
        "# Compute the violations by male drivers (as proportions)\n",
        "print(male['violation'].value_counts(normalize=True))"
      ],
      "metadata": {
        "colab": {
          "base_uri": "https://localhost:8080/"
        },
        "id": "BxlWb1CQ9SSt",
        "outputId": "115c7497-89cb-4e8c-b475-63bd831af0c6"
      },
      "execution_count": 19,
      "outputs": [
        {
          "output_type": "stream",
          "name": "stdout",
          "text": [
            "Speeding              0.66\n",
            "Moving violation      0.14\n",
            "Equipment             0.11\n",
            "Registration/plates   0.04\n",
            "Other                 0.03\n",
            "Seat belt             0.02\n",
            "Name: violation, dtype: float64\n",
            "Speeding              0.52\n",
            "Moving violation      0.21\n",
            "Equipment             0.13\n",
            "Other                 0.06\n",
            "Registration/plates   0.04\n",
            "Seat belt             0.04\n",
            "Name: violation, dtype: float64\n"
          ]
        }
      ]
    },
    {
      "cell_type": "markdown",
      "source": [
        "About two-thirds of female traffic stops are for speeding, whereas stops of males are more balanced among the six categories. This doesn't mean that females speed more often than males, however, since we didn't take into account the number of stops or drivers.\n",
        "\n",
        "# ***Filtering by multiple conditions***\n",
        "\n"
      ],
      "metadata": {
        "id": "PaoAq6_p-xLm"
      }
    },
    {
      "cell_type": "code",
      "source": [
        "female_and_arrested = ri[(ri['driver_gender'] == 'F') & (ri['is_arrested'] == True)]\n",
        "female_or_arrested  = ri[(ri['driver_gender'] == 'F') | (ri['is_arrested'] == True)]"
      ],
      "metadata": {
        "id": "Wj3MnFeh-oqM"
      },
      "execution_count": 20,
      "outputs": []
    },
    {
      "cell_type": "markdown",
      "source": [
        "### ***Comparing speeding outcomes by gender***\n",
        "\n",
        "When a driver is pulled over for speeding, many people believe that gender has an impact on whether the driver will receive a ticket or a warning. Can you find evidence of this in the dataset?\n",
        "\n",
        "First, you'll create two DataFrames of drivers who were stopped for speeding: one containing females and the other containing males.\n",
        "\n",
        "Then, for each gender, you'll use the `stop_outcome` column to calculate what percentage of stops resulted in a `\"Citation\"` (meaning a ticket) versus a `\"Warning\"`.\n",
        "\n",
        "* Create a DataFrame, `female_and_speeding`, that only includes female drivers who were stopped for speeding.\n",
        "* Create a DataFrame, `male_and_speeding`, that only includes male drivers who were stopped for speeding.\n",
        "* Count the stop outcomes for the female drivers and express them as proportions.\n",
        "* Count the stop outcomes for the male drivers and express them as proportions."
      ],
      "metadata": {
        "id": "g7UrrggLA8qb"
      }
    },
    {
      "cell_type": "code",
      "source": [
        "import pandas as pd\n",
        "pd.options.display.float_format = '{:,.2f}'.format\n",
        "\n",
        "ri = pd.read_csv('police.csv')\n",
        "ri.drop(['county_name', 'state'], axis='columns', inplace=True)\n",
        "ri.dropna(subset=['driver_gender'], inplace=True)\n",
        "ri['is_arrested'] = ri['is_arrested'].astype('bool')\n",
        "combined = ri['stop_date'].str.cat(ri['stop_time'], sep=' ')\n",
        "ri['stop_datetime'] = pd.to_datetime(combined)\n",
        "ri.set_index('stop_datetime', inplace=True)\n",
        "\n",
        "# Create a DataFrame of female drivers stopped for speeding\n",
        "female_and_speeding = ri[(ri['driver_gender'] == 'F') & (ri['violation'] == 'Speeding')]\n",
        "\n",
        "# Create a DataFrame of male drivers stopped for speeding\n",
        "male_and_speeding = ri[(ri['driver_gender'] == 'M') & (ri['violation'] == 'Speeding')]\n",
        "\n",
        "# Compute the stop outcomes for female drivers (as proportions)\n",
        "print(female_and_speeding['stop_outcome'].value_counts(normalize=True))\n",
        "\n",
        "# Compute the stop outcomes for male drivers (as proportions)\n",
        "print(male_and_speeding['stop_outcome'].value_counts(normalize=True))"
      ],
      "metadata": {
        "colab": {
          "base_uri": "https://localhost:8080/"
        },
        "id": "z3tVpl5FAQ_X",
        "outputId": "d092e72e-70fb-4edd-9ca0-56b585f00c67"
      },
      "execution_count": 23,
      "outputs": [
        {
          "output_type": "stream",
          "name": "stdout",
          "text": [
            "Citation           0.95\n",
            "Warning            0.04\n",
            "Arrest Driver      0.01\n",
            "N/D                0.00\n",
            "Arrest Passenger   0.00\n",
            "No Action          0.00\n",
            "Name: stop_outcome, dtype: float64\n",
            "Citation           0.94\n",
            "Warning            0.04\n",
            "Arrest Driver      0.02\n",
            "Arrest Passenger   0.00\n",
            "No Action          0.00\n",
            "N/D                0.00\n",
            "Name: stop_outcome, dtype: float64\n"
          ]
        }
      ]
    },
    {
      "cell_type": "markdown",
      "source": [
        "The numbers are similar for males and females: about 95% of stops for speeding result in a ticket. Thus, the data <ins>***fails***</ins> to show that gender has an impact on who gets a ticket for speeding.\n",
        "\n",
        "# ***The mean of the boolean series represents the proportions of `True` values***\n",
        "\n",
        "### ***Calculating the search rate***\n",
        "\n",
        "During a traffic stop, the police officer sometimes conducts a search of the vehicle. In this exercise, you'll calculate the percentage of all stops in the `ri` DataFrame that result in a vehicle search, also known as the search rate.\n",
        "\n",
        "* Check the data type of `search_conducted` to confirm that it's a `Boolean` Series.\n",
        "* Calculate the search rate by counting the Series values and expressing them as proportions.\n",
        "* Calculate the search rate by taking the mean of the Series. (It should match the proportion of `True` values calculated above.)"
      ],
      "metadata": {
        "id": "Au7N-aRvCYhf"
      }
    },
    {
      "cell_type": "code",
      "source": [
        "import pandas as pd\n",
        "pd.options.display.float_format = '{:,.2f}'.format\n",
        "\n",
        "ri = pd.read_csv('police.csv')\n",
        "ri.drop(['county_name', 'state'], axis='columns', inplace=True)\n",
        "ri.dropna(subset=['driver_gender'], inplace=True)\n",
        "ri['is_arrested'] = ri['is_arrested'].astype('bool')\n",
        "combined = ri['stop_date'].str.cat(ri['stop_time'], sep=' ')\n",
        "ri['stop_datetime'] = pd.to_datetime(combined)\n",
        "ri.set_index('stop_datetime', inplace=True)\n",
        "\n",
        "# Check the data type of 'search_conducted'\n",
        "print(ri['search_conducted'].dtype)\n",
        "\n",
        "# Calculate the search rate by counting the values\n",
        "print(ri['search_conducted'].value_counts(normalize=True)*100)\n",
        "\n",
        "# Calculate the search rate by taking the mean\n",
        "print(round(ri['search_conducted'].mean()*100, 2), '%')"
      ],
      "metadata": {
        "colab": {
          "base_uri": "https://localhost:8080/"
        },
        "id": "sQO5IIUpCR2U",
        "outputId": "f76871cd-bdf9-4852-a3cc-2d360e01f0ab"
      },
      "execution_count": 27,
      "outputs": [
        {
          "output_type": "stream",
          "name": "stdout",
          "text": [
            "bool\n",
            "False   96.18\n",
            "True     3.82\n",
            "Name: search_conducted, dtype: float64\n",
            "3.82 %\n"
          ]
        }
      ]
    },
    {
      "cell_type": "markdown",
      "source": [
        "It looks like the search rate is about 3.8%. Next, you'll examine whether the search rate varies by driver gender.\n",
        "\n",
        "### ***Comparing search rates by gender using `.groupby()`***\n",
        "\n",
        "In this exercise, you'll compare the rates at which female and male drivers are searched during a traffic stop. Remember that the vehicle search rate across all stops is about 3.8%.\n",
        "\n",
        "First, you'll filter the DataFrame by gender and calculate the search rate for each group separately. Then, you'll perform the same calculation for both genders at once using a **`.groupby()`**.\n",
        "\n",
        "\n",
        "* Filter the DataFrame to only include female drivers, and then calculate the search rate by taking the mean of `search_conducted`.\n",
        "* Filter the DataFrame to only include male drivers, and then repeat the search rate calculation.\n",
        "* Group by driver gender to calculate the search rate for both groups simultaneously. (It should match the previous results.)"
      ],
      "metadata": {
        "id": "um4RJ1U4GVfQ"
      }
    },
    {
      "cell_type": "code",
      "source": [
        "import pandas as pd\n",
        "pd.options.display.float_format = '{:,.2f}'.format\n",
        "\n",
        "ri = pd.read_csv('police.csv')\n",
        "ri.drop(['county_name', 'state'], axis='columns', inplace=True)\n",
        "ri.dropna(subset=['driver_gender'], inplace=True)\n",
        "ri['is_arrested'] = ri['is_arrested'].astype('bool')\n",
        "combined = ri['stop_date'].str.cat(ri['stop_time'], sep=' ')\n",
        "ri['stop_datetime'] = pd.to_datetime(combined)\n",
        "ri.set_index('stop_datetime', inplace=True)\n",
        "\n",
        "# Calculate the search rate for female drivers\n",
        "print(round(ri[ri['driver_gender'] == 'F']['search_conducted'].mean()*100, 2), '%')\n",
        "\n",
        "# Calculate the search rate for male drivers\n",
        "print(round(ri[ri['driver_gender'] == 'M']['search_conducted'].mean()*100, 2), '%')\n",
        "\n",
        "# Calculate the search rate for both groups simultaneously\n",
        "print(ri.groupby('driver_gender')['search_conducted'].mean()*100)\n"
      ],
      "metadata": {
        "colab": {
          "base_uri": "https://localhost:8080/"
        },
        "id": "hovyHp3UFuNx",
        "outputId": "1c779b4c-b09d-48e3-c576-7b87c61342db"
      },
      "execution_count": 31,
      "outputs": [
        {
          "output_type": "stream",
          "name": "stdout",
          "text": [
            "1.92 %\n",
            "4.54 %\n",
            "driver_gender\n",
            "F   1.92\n",
            "M   4.54\n",
            "Name: search_conducted, dtype: float64\n"
          ]
        }
      ]
    },
    {
      "cell_type": "markdown",
      "source": [
        "Male drivers are searched more than twice as often as female drivers. Why might this be?\n",
        "\n",
        "### ***Adding a second factor to the analysis***\n",
        "\n",
        "Even though the search rate for males is much higher than for females, it's possible that the difference is mostly due to a second factor.\n",
        "\n",
        "For example, you might hypothesize that the search rate varies by violation type, and the difference in search rate between males and females is because they tend to commit different violations.\n",
        "\n",
        "You can test this hypothesis by ***examining the search rate for each combination of gender and violation***. If the hypothesis was true, you would find that males and females are searched at about the same rate for each violation. Let's find out if that's the case!\n",
        "\n",
        "* Use a **`.groupby()`** to calculate the search rate for each combination of gender and violation. Are males and females searched at about the same rate for each violation?\n",
        "* Reverse the ordering to group by `violation` before `gender`. The results may be easier to compare when presented this way."
      ],
      "metadata": {
        "id": "wxr0zYG3H0ge"
      }
    },
    {
      "cell_type": "code",
      "source": [
        "import pandas as pd\n",
        "pd.options.display.float_format = '{:,.2f}'.format\n",
        "\n",
        "ri = pd.read_csv('police.csv')\n",
        "ri.drop(['county_name', 'state'], axis='columns', inplace=True)\n",
        "ri.dropna(subset=['driver_gender'], inplace=True)\n",
        "ri['is_arrested'] = ri['is_arrested'].astype('bool')\n",
        "combined = ri['stop_date'].str.cat(ri['stop_time'], sep=' ')\n",
        "ri['stop_datetime'] = pd.to_datetime(combined)\n",
        "ri.set_index('stop_datetime', inplace=True)\n",
        "\n",
        "# Calculate the search rate for each combination of gender and violation\n",
        "print(ri.groupby(['driver_gender', 'violation'])['search_conducted'].mean()*100, \"\\n\\n\")\n",
        "\n",
        "# Reverse the ordering to group by violation before gender\n",
        "print(ri.groupby([\"violation\", \"driver_gender\"])[\"search_conducted\"].mean()*100)"
      ],
      "metadata": {
        "colab": {
          "base_uri": "https://localhost:8080/"
        },
        "id": "awWiWOjdHZHD",
        "outputId": "737e164f-c527-4e7d-ebea-280b8589e9b4"
      },
      "execution_count": 34,
      "outputs": [
        {
          "output_type": "stream",
          "name": "stdout",
          "text": [
            "driver_gender  violation          \n",
            "F              Equipment              4.00\n",
            "               Moving violation       3.93\n",
            "               Other                  4.10\n",
            "               Registration/plates    5.49\n",
            "               Seat belt              1.73\n",
            "               Speeding               0.83\n",
            "M              Equipment              7.15\n",
            "               Moving violation       6.15\n",
            "               Other                  4.62\n",
            "               Registration/plates   10.88\n",
            "               Seat belt              3.51\n",
            "               Speeding               2.79\n",
            "Name: search_conducted, dtype: float64 \n",
            "\n",
            "\n",
            "violation            driver_gender\n",
            "Equipment            F                4.00\n",
            "                     M                7.15\n",
            "Moving violation     F                3.93\n",
            "                     M                6.15\n",
            "Other                F                4.10\n",
            "                     M                4.62\n",
            "Registration/plates  F                5.49\n",
            "                     M               10.88\n",
            "Seat belt            F                1.73\n",
            "                     M                3.51\n",
            "Speeding             F                0.83\n",
            "                     M                2.79\n",
            "Name: search_conducted, dtype: float64\n"
          ]
        }
      ]
    },
    {
      "cell_type": "markdown",
      "source": [
        "For all types of violations, the search rate is higher for males than for females, disproving our hypothesis.\n",
        "\n",
        "## ***ปกติ `.value_counts()` จะไม่แสดงค่า `NaN` ต้องใส่ dropna=False จึงจะแสดง***"
      ],
      "metadata": {
        "id": "HX9nsfs1JKfk"
      }
    },
    {
      "cell_type": "code",
      "source": [
        "print(ri['search_conducted'].value_counts(),\"\\n\\n\")\n",
        "print(ri['search_type'].value_counts(dropna=False))"
      ],
      "metadata": {
        "colab": {
          "base_uri": "https://localhost:8080/"
        },
        "id": "v0sgRxV2IyZr",
        "outputId": "629c264b-e05d-444f-fe60-8a5de5948f33"
      },
      "execution_count": 41,
      "outputs": [
        {
          "output_type": "stream",
          "name": "stdout",
          "text": [
            "False    83229\n",
            "True      3307\n",
            "Name: search_conducted, dtype: int64 \n",
            "\n",
            "\n",
            "NaN                                                         83229\n",
            "Incident to Arrest                                           1290\n",
            "Probable Cause                                                924\n",
            "Inventory                                                     219\n",
            "Reasonable Suspicion                                          214\n",
            "Protective Frisk                                              164\n",
            "Incident to Arrest,Inventory                                  123\n",
            "Incident to Arrest,Probable Cause                             100\n",
            "Probable Cause,Reasonable Suspicion                            54\n",
            "Incident to Arrest,Inventory,Probable Cause                    35\n",
            "Probable Cause,Protective Frisk                                35\n",
            "Incident to Arrest,Protective Frisk                            33\n",
            "Inventory,Probable Cause                                       25\n",
            "Protective Frisk,Reasonable Suspicion                          19\n",
            "Incident to Arrest,Inventory,Protective Frisk                  18\n",
            "Incident to Arrest,Probable Cause,Protective Frisk             13\n",
            "Inventory,Protective Frisk                                     12\n",
            "Incident to Arrest,Reasonable Suspicion                         8\n",
            "Probable Cause,Protective Frisk,Reasonable Suspicion            5\n",
            "Incident to Arrest,Probable Cause,Reasonable Suspicion          5\n",
            "Incident to Arrest,Inventory,Reasonable Suspicion               4\n",
            "Incident to Arrest,Protective Frisk,Reasonable Suspicion        2\n",
            "Inventory,Reasonable Suspicion                                  2\n",
            "Inventory,Protective Frisk,Reasonable Suspicion                 1\n",
            "Inventory,Probable Cause,Reasonable Suspicion                   1\n",
            "Inventory,Probable Cause,Protective Frisk                       1\n",
            "Name: search_type, dtype: int64\n"
          ]
        }
      ]
    },
    {
      "cell_type": "markdown",
      "source": [
        "ให้สังเกตว่า ในคอลัมน์ `search_type` นั้นจำนวนข้อมูลที่ไม่มี จะเท่ากับค่า False ใน `search_conducted`\n",
        "\n",
        "* *สมมตต้องการดูทุกอย่างที่เกี่ยวกับ `Inventory` ต้องทำไง?\n",
        "\n",
        "# ***Searching for a string***\n",
        "\n",
        "\n",
        "\n"
      ],
      "metadata": {
        "id": "RQ9ViQvAMAk-"
      }
    },
    {
      "cell_type": "code",
      "source": [
        "ri['inventory'] = ri['search_type'].str.contains('Inventory', na=False)\n",
        "# na=False returns False when it finds a missing value\n",
        "\n",
        "ri['inventory'].value_counts()"
      ],
      "metadata": {
        "colab": {
          "base_uri": "https://localhost:8080/"
        },
        "id": "3OjKoyhkLi5Y",
        "outputId": "ee54df62-15e2-4884-b069-89b1a4e1ebc9"
      },
      "execution_count": 43,
      "outputs": [
        {
          "output_type": "execute_result",
          "data": {
            "text/plain": [
              "False    86095\n",
              "True       441\n",
              "Name: inventory, dtype: int64"
            ]
          },
          "metadata": {},
          "execution_count": 43
        }
      ]
    },
    {
      "cell_type": "markdown",
      "source": [
        "เนื่องจาก `ri['inventory']` สร้างมาจาก `search_type` column ที่มีค่า missing value จากการที่ไม่ได้ทำการค้นหาเลย จึงต้องกรองทิ้งไปก่อนที่จะใช้ `mean` หา % ของ `inventory`"
      ],
      "metadata": {
        "id": "AcwIjnlzO3CJ"
      }
    },
    {
      "cell_type": "code",
      "source": [
        "searched = ri[ri['search_conducted'] == True]\n",
        "print(f'Inventory Search rate = {searched[\"inventory\"].mean()*100:,.2f}%')"
      ],
      "metadata": {
        "colab": {
          "base_uri": "https://localhost:8080/"
        },
        "id": "9ELL_noINLC8",
        "outputId": "46c134d4-b1eb-4441-91f4-12af1b7d9c6d"
      },
      "execution_count": 47,
      "outputs": [
        {
          "output_type": "stream",
          "name": "stdout",
          "text": [
            "Inventory Search rate = 13.34%\n"
          ]
        }
      ]
    },
    {
      "cell_type": "markdown",
      "source": [
        "### ***Counting protective frisks***\n",
        "\n",
        "During a vehicle search, the police officer may pat down the driver to check if they have a weapon. This is known as a \"protective frisk.\"\n",
        "\n",
        "In this exercise, you'll first check to see how many times \"Protective Frisk\" was the only search type. Then, you'll use a string method to locate all instances in which the driver was frisked.\n",
        "\n",
        "* Count the `search_type` values in the `ri` DataFrame to see how many times `\"Protective Frisk\"` was the only search type.\n",
        "* Create a new column, `frisk`, that is `True` if `search_type` contains the string `\"Protective Frisk\"` and `False` otherwise.\n",
        "* Check the data type of `frisk` to confirm that it's a `Boolean` Series.\n",
        "* Take the sum of `frisk` to count the total number of frisks."
      ],
      "metadata": {
        "id": "_PzYIzv_P7ao"
      }
    },
    {
      "cell_type": "code",
      "source": [
        "import pandas as pd\n",
        "pd.options.display.float_format = '{:,.2f}'.format\n",
        "\n",
        "ri = pd.read_csv('police.csv')\n",
        "ri.drop(['county_name', 'state'], axis='columns', inplace=True)\n",
        "ri.dropna(subset=['driver_gender'], inplace=True)\n",
        "ri['is_arrested'] = ri['is_arrested'].astype('bool')\n",
        "combined = ri['stop_date'].str.cat(ri['stop_time'], sep=' ')\n",
        "ri['stop_datetime'] = pd.to_datetime(combined)\n",
        "ri.set_index('stop_datetime', inplace=True)\n",
        "\n",
        "\n",
        "# Count the 'search_type' values\n",
        "print(ri['search_type'].value_counts())\n",
        "\n",
        "# Check if 'search_type' contains the string 'Protective Frisk'\n",
        "ri['frisk'] = ri['search_type'].str.contains('Protective Frisk', na=False)\n",
        "\n",
        "# Check the data type of 'frisk'\n",
        "print(ri['frisk'].dtype)\n",
        "\n",
        "# Take the sum of 'frisk'\n",
        "print(ri['frisk'].sum())"
      ],
      "metadata": {
        "colab": {
          "base_uri": "https://localhost:8080/"
        },
        "id": "14V08wkKPmYI",
        "outputId": "11882d9d-148e-4bd8-a825-acde75d33e9d"
      },
      "execution_count": 48,
      "outputs": [
        {
          "output_type": "stream",
          "name": "stdout",
          "text": [
            "Incident to Arrest                                          1290\n",
            "Probable Cause                                               924\n",
            "Inventory                                                    219\n",
            "Reasonable Suspicion                                         214\n",
            "Protective Frisk                                             164\n",
            "Incident to Arrest,Inventory                                 123\n",
            "Incident to Arrest,Probable Cause                            100\n",
            "Probable Cause,Reasonable Suspicion                           54\n",
            "Incident to Arrest,Inventory,Probable Cause                   35\n",
            "Probable Cause,Protective Frisk                               35\n",
            "Incident to Arrest,Protective Frisk                           33\n",
            "Inventory,Probable Cause                                      25\n",
            "Protective Frisk,Reasonable Suspicion                         19\n",
            "Incident to Arrest,Inventory,Protective Frisk                 18\n",
            "Incident to Arrest,Probable Cause,Protective Frisk            13\n",
            "Inventory,Protective Frisk                                    12\n",
            "Incident to Arrest,Reasonable Suspicion                        8\n",
            "Probable Cause,Protective Frisk,Reasonable Suspicion           5\n",
            "Incident to Arrest,Probable Cause,Reasonable Suspicion         5\n",
            "Incident to Arrest,Inventory,Reasonable Suspicion              4\n",
            "Incident to Arrest,Protective Frisk,Reasonable Suspicion       2\n",
            "Inventory,Reasonable Suspicion                                 2\n",
            "Inventory,Protective Frisk,Reasonable Suspicion                1\n",
            "Inventory,Probable Cause,Reasonable Suspicion                  1\n",
            "Inventory,Probable Cause,Protective Frisk                      1\n",
            "Name: search_type, dtype: int64\n",
            "bool\n",
            "303\n"
          ]
        }
      ]
    },
    {
      "cell_type": "markdown",
      "source": [
        " It looks like there were 303 drivers who were frisked.\n",
        "\n",
        " ### ***Comparing frisk rates by gender***\n",
        "\n",
        "In this exercise, you'll compare the rates at which female and male drivers are frisked during a search. Are males frisked more often than females, perhaps because police officers consider them to be higher risk?\n",
        "\n",
        "Before doing any calculations, it's important to filter the DataFrame to only include the relevant subset of data, namely stops in which a search was conducted.\n",
        "\n",
        "* Create a DataFrame, `searched`, that only contains rows in which `search_conducted` is `True`.\n",
        "* Take the mean of the `frisk` column to find out what percentage of searches included a `frisk`.\n",
        "* Calculate the frisk rate for each gender using a **`.groupby()`**."
      ],
      "metadata": {
        "id": "4vTLoIxwRAXu"
      }
    },
    {
      "cell_type": "code",
      "source": [
        "import pandas as pd\n",
        "pd.options.display.float_format = '{:,.2f}'.format\n",
        "\n",
        "ri = pd.read_csv('police.csv')\n",
        "ri.drop(['county_name', 'state'], axis='columns', inplace=True)\n",
        "ri.dropna(subset=['driver_gender'], inplace=True)\n",
        "ri['is_arrested'] = ri['is_arrested'].astype('bool')\n",
        "combined = ri['stop_date'].str.cat(ri['stop_time'], sep=' ')\n",
        "ri['stop_datetime'] = pd.to_datetime(combined)\n",
        "ri.set_index('stop_datetime', inplace=True)\n",
        "ri['frisk'] = ri['search_type'].str.contains('Protective Frisk', na=False)\n",
        "\n",
        "# Create a DataFrame of stops in which a search was conducted\n",
        "searched = ri[ri['search_conducted'] == True]\n",
        "\n",
        "# Calculate the overall frisk rate by taking the mean of 'frisk'\n",
        "print(f\"Overall search involving frisk = {searched['frisk'].mean()*100:,.2f}%\")\n",
        "\n",
        "# Calculate the frisk rate for each gender\n",
        "print(searched.groupby('driver_gender')['frisk'].mean()*100)"
      ],
      "metadata": {
        "colab": {
          "base_uri": "https://localhost:8080/"
        },
        "id": "ts_Kf99sQ8tQ",
        "outputId": "8e2b4139-0afb-4892-c750-aab86850dcff"
      },
      "execution_count": 51,
      "outputs": [
        {
          "output_type": "stream",
          "name": "stdout",
          "text": [
            "Overall search involving frisk = 9.16%\n",
            "driver_gender\n",
            "F   7.46\n",
            "M   9.44\n",
            "Name: frisk, dtype: float64\n"
          ]
        }
      ]
    },
    {
      "cell_type": "markdown",
      "source": [
        "The frisk rate is higher for males than for females, though we can't conclude that this difference is caused by the driver's gender.\n",
        "\n",
        "## *ถ้าเป็นข้อมูล `datetime` object เวลาจะใช้ ต้องใช้ `.dt` แต่ถ้าเป็น datetime index แล้ว ไม่ต้องใช้ `.dt`*\n",
        "\n",
        "# ***Calculating the monthly mean price***\n",
        "\n"
      ],
      "metadata": {
        "id": "AivXzHFSSiUB"
      }
    },
    {
      "cell_type": "code",
      "source": [
        "df.groupby(df.index.month)['numeric_col'].mean()"
      ],
      "metadata": {
        "id": "CIU82Lh4SLOW"
      },
      "execution_count": null,
      "outputs": []
    },
    {
      "cell_type": "markdown",
      "source": [
        "### ***Calculating the hourly arrest rate***\n",
        "\n",
        "When a police officer stops a driver, a small percentage of those stops ends in an arrest. This is known as the arrest rate. In this exercise, you'll find out whether the arrest rate varies by time of day.\n",
        "\n",
        "First, you'll calculate the arrest rate across all stops in the `ri` DataFrame. Then, you'll calculate the hourly arrest rate by using the **`hour`** attribute of the **`index`**. The hour ranges from `0` to `23`, in which:\n",
        "\n",
        "* 0 = midnight\n",
        "* 12 = noon\n",
        "* 23 = 11 PM\n",
        "\n",
        "* Take the mean of the `is_arrested` column to calculate the overall arrest rate.\n",
        "* Group by the **`hour`** attribute of the DataFrame **`index`** to calculate the hourly arrest rate.\n",
        "* Save the hourly arrest rate Series as a new object, `hourly_arrest_rate`."
      ],
      "metadata": {
        "id": "5jrTa-lvkdfZ"
      }
    },
    {
      "cell_type": "code",
      "source": [
        "import pandas as pd\n",
        "pd.options.display.float_format = '{:,.2f}'.format\n",
        "\n",
        "ri = pd.read_csv('police.csv')\n",
        "ri.drop(['county_name', 'state'], axis='columns', inplace=True)\n",
        "ri.dropna(subset=['driver_gender'], inplace=True)\n",
        "ri['is_arrested'] = ri['is_arrested'].astype('bool')\n",
        "combined = ri['stop_date'].str.cat(ri['stop_time'], sep=' ')\n",
        "ri['stop_datetime'] = pd.to_datetime(combined)\n",
        "ri.set_index('stop_datetime', inplace=True)\n",
        "ri['frisk'] = ri['search_type'].str.contains('Protective Frisk', na=False)\n",
        "\n",
        "# Calculate the overall arrest rate\n",
        "print(ri['is_arrested'].mean())\n",
        "\n",
        "# Calculate the hourly arrest rate\n",
        "print(ri.groupby(ri.index.hour)['is_arrested'].mean())\n",
        "\n",
        "# Save the hourly arrest rate\n",
        "hourly_arrest_rate = ri.groupby(ri.index.hour)['is_arrested'].mean()"
      ],
      "metadata": {
        "colab": {
          "base_uri": "https://localhost:8080/"
        },
        "id": "ewZSB0Tflena",
        "outputId": "0363ce50-9068-42b9-dc0e-e03b8f30160d"
      },
      "execution_count": 1,
      "outputs": [
        {
          "output_type": "stream",
          "name": "stdout",
          "text": [
            "0.0355690117407784\n",
            "stop_datetime\n",
            "0    0.05\n",
            "1    0.06\n",
            "2    0.06\n",
            "3    0.06\n",
            "4    0.05\n",
            "5    0.04\n",
            "6    0.01\n",
            "7    0.01\n",
            "8    0.02\n",
            "9    0.03\n",
            "10   0.03\n",
            "11   0.03\n",
            "12   0.04\n",
            "13   0.03\n",
            "14   0.03\n",
            "15   0.03\n",
            "16   0.04\n",
            "17   0.04\n",
            "18   0.04\n",
            "19   0.03\n",
            "20   0.04\n",
            "21   0.06\n",
            "22   0.05\n",
            "23   0.05\n",
            "Name: is_arrested, dtype: float64\n"
          ]
        }
      ]
    },
    {
      "cell_type": "markdown",
      "source": [
        "### ***Plotting the hourly arrest rate***\n",
        "\n",
        "In this exercise, you'll create a line plot from the `hourly_arrest_rate` object. A line plot is appropriate in this case because you're showing how a quantity changes over time.\n",
        "\n",
        "This plot should help you to spot some trends that may not have been obvious when examining the raw numbers!\n",
        "\n",
        "* Create a line plot of `hourly_arrest_rate` using the **`.plot()`** method.\n",
        "* Label the x-axis as `'Hour'`, label the y-axis as `'Arrest Rate'`, and title the plot `'Arrest Rate by Time of Day'`.\n",
        "\n"
      ],
      "metadata": {
        "id": "cp3w6qLImTcB"
      }
    },
    {
      "cell_type": "code",
      "source": [
        "import matplotlib.pyplot as plt\n",
        "import pandas as pd\n",
        "pd.options.display.float_format = '{:,.2f}'.format\n",
        "\n",
        "ri = pd.read_csv('police.csv')\n",
        "ri.drop(['county_name', 'state'], axis='columns', inplace=True)\n",
        "ri.dropna(subset=['driver_gender'], inplace=True)\n",
        "ri['is_arrested'] = ri['is_arrested'].astype('bool')\n",
        "combined = ri['stop_date'].str.cat(ri['stop_time'], sep=' ')\n",
        "ri['stop_datetime'] = pd.to_datetime(combined)\n",
        "ri.set_index('stop_datetime', inplace=True)\n",
        "ri['frisk'] = ri['search_type'].str.contains('Protective Frisk', na=False)\n",
        "hourly_arrest_rate = ri.groupby(ri.index.hour)['is_arrested'].mean()\n",
        "\n",
        "# Create a line plot of 'hourly_arrest_rate'\n",
        "hourly_arrest_rate.plot(figsize=(13, 7))\n",
        "\n",
        "# Add the xlabel, ylabel, and title\n",
        "plt.xlabel('Hour')\n",
        "plt.ylabel('Arrest Rate')\n",
        "plt.title('Arrest Rate by Time of Day')\n",
        "plt.show()"
      ],
      "metadata": {
        "colab": {
          "base_uri": "https://localhost:8080/",
          "height": 458
        },
        "id": "JzAuXKYpmMgN",
        "outputId": "a8d3f9cd-513d-4792-9f20-6b610f2157ec"
      },
      "execution_count": 3,
      "outputs": [
        {
          "output_type": "display_data",
          "data": {
            "image/png": "[encoded data removed]",
            "text/plain": [
              "<Figure size 936x504 with 1 Axes>"
            ]
          },
          "metadata": {
            "needs_background": "light"
          }
        }
      ]
    },
    {
      "cell_type": "markdown",
      "source": [
        "The arrest rate has a significant spike overnight, and then dips in the early morning hours.\n",
        "\n",
        "# ***Resampling the time series***\n",
        "\n"
      ],
      "metadata": {
        "id": "SwECU0UBnYLw"
      }
    },
    {
      "cell_type": "code",
      "source": [
        "df['col'].resample('M').mean()"
      ],
      "metadata": {
        "id": "GtJLuQuFnRIi"
      },
      "execution_count": null,
      "outputs": []
    },
    {
      "cell_type": "markdown",
      "source": [
        "### ***Plotting drug-related stops***\n",
        "\n",
        "In a small portion of traffic stops, drugs are found in the vehicle during a search. In this exercise, you'll assess whether these drug-related stops are becoming more common over time.\n",
        "\n",
        "The `Boolean` column `drugs_related_stop` indicates whether drugs were found during a given stop. You'll calculate the annual drug rate by resampling this column, and then you'll use a line plot to visualize how the rate has changed over time.\n",
        "\n",
        "* Calculate the annual rate of drug-related stops by resampling the `drugs_related_stop` column (on the `'A'` frequency) and taking the `mean`.\n",
        "* Save the annual drug rate Series as a new object, `annual_drug_rate`.\n",
        "* Create a line plot of `annual_drug_rate` using the `.plot()` method.\n"
      ],
      "metadata": {
        "id": "V4yMu05_pbv9"
      }
    },
    {
      "cell_type": "code",
      "source": [
        "import matplotlib.pyplot as plt\n",
        "import pandas as pd\n",
        "pd.options.display.float_format = '{:,.2f}'.format\n",
        "\n",
        "ri = pd.read_csv('police.csv')\n",
        "ri.drop(['county_name', 'state'], axis='columns', inplace=True)\n",
        "ri.dropna(subset=['driver_gender'], inplace=True)\n",
        "ri['is_arrested'] = ri['is_arrested'].astype('bool')\n",
        "combined = ri['stop_date'].str.cat(ri['stop_time'], sep=' ')\n",
        "ri['stop_datetime'] = pd.to_datetime(combined)\n",
        "ri.set_index('stop_datetime', inplace=True)\n",
        "ri['frisk'] = ri['search_type'].str.contains('Protective Frisk', na=False)\n",
        "hourly_arrest_rate = ri.groupby(ri.index.hour)['is_arrested'].mean()\n",
        "\n",
        "# Calculate the annual rate of drug-related stops\n",
        "print(ri.drugs_related_stop.resample('A').mean())\n",
        "\n",
        "# Save the annual rate of drug-related stops\n",
        "annual_drug_rate = ri.drugs_related_stop.resample('A').mean()\n",
        "\n",
        "# Create a line plot of 'annual_drug_rate'\n",
        "annual_drug_rate.plot(figsize=(13,7))\n",
        "plt.show()"
      ],
      "metadata": {
        "colab": {
          "base_uri": "https://localhost:8080/",
          "height": 681
        },
        "id": "1eszswQXqCRt",
        "outputId": "17895ab8-9b65-4c56-9cd9-e777f4a69838"
      },
      "execution_count": 4,
      "outputs": [
        {
          "output_type": "stream",
          "name": "stdout",
          "text": [
            "stop_datetime\n",
            "2005-12-31   0.01\n",
            "2006-12-31   0.01\n",
            "2007-12-31   0.01\n",
            "2008-12-31   0.01\n",
            "2009-12-31   0.01\n",
            "2010-12-31   0.01\n",
            "2011-12-31   0.01\n",
            "2012-12-31   0.01\n",
            "2013-12-31   0.01\n",
            "2014-12-31   0.01\n",
            "2015-12-31   0.01\n",
            "Freq: A-DEC, Name: drugs_related_stop, dtype: float64\n"
          ]
        },
        {
          "output_type": "display_data",
          "data": {
            "image/png": "[encoded data removed]",
            "text/plain": [
              "<Figure size 936x504 with 1 Axes>"
            ]
          },
          "metadata": {
            "needs_background": "light"
          }
        }
      ]
    },
    {
      "cell_type": "markdown",
      "source": [
        "### ***Comparing drug and search rates***\n",
        "\n",
        "As you saw in the last exercise, the rate of drug-related stops increased significantly between 2005 and 2015. You might hypothesize that the rate of vehicle searches was also increasing, which would have led to an increase in drug-related stops even if more drivers were not carrying drugs.\n",
        "\n",
        "You can test this hypothesis by calculating the annual search rate, and then plotting it against the annual drug rate. If the hypothesis is true, then you'll see both rates increasing over time.\n",
        "\n",
        "* Calculate the annual search rate by resampling the `search_conducted` column, and save the result as `annual_search_rate`.\n",
        "* Concatenate `annual_drug_rate` and `annual_search_rate` along the `columns` axis, and save the result as `annual`.\n",
        "* Create `subplots` of the drug and search rates from the annual DataFrame.\n"
      ],
      "metadata": {
        "id": "B_ggNTPkqlVs"
      }
    },
    {
      "cell_type": "code",
      "source": [
        "import matplotlib.pyplot as plt\n",
        "import pandas as pd\n",
        "pd.options.display.float_format = '{:,.2f}'.format\n",
        "\n",
        "ri = pd.read_csv('police.csv')\n",
        "ri.drop(['county_name', 'state'], axis='columns', inplace=True)\n",
        "ri.dropna(subset=['driver_gender'], inplace=True)\n",
        "ri['is_arrested'] = ri['is_arrested'].astype('bool')\n",
        "combined = ri['stop_date'].str.cat(ri['stop_time'], sep=' ')\n",
        "ri['stop_datetime'] = pd.to_datetime(combined)\n",
        "ri.set_index('stop_datetime', inplace=True)\n",
        "ri['frisk'] = ri['search_type'].str.contains('Protective Frisk', na=False)\n",
        "hourly_arrest_rate = ri.groupby(ri.index.hour)['is_arrested'].mean()\n",
        "annual_drug_rate = ri.drugs_related_stop.resample('A').mean()\n",
        "\n",
        "# Calculate and save the annual search rate\n",
        "annual_search_rate = ri.search_conducted.resample('A').mean()\n",
        "\n",
        "# Concatenate 'annual_drug_rate' and 'annual_search_rate'\n",
        "annual = pd.concat([annual_drug_rate, annual_search_rate], axis='columns')\n",
        "\n",
        "# Create subplots from 'annual'\n",
        "annual.plot(subplots=True, figsize=(15, 9))\n",
        "\n",
        "# Display the subplots\n",
        "plt.show()"
      ],
      "metadata": {
        "colab": {
          "base_uri": "https://localhost:8080/",
          "height": 552
        },
        "id": "IBpMFfPZq3JO",
        "outputId": "d37d8ee2-5078-49c5-c3ed-079bda85010e"
      },
      "execution_count": 6,
      "outputs": [
        {
          "output_type": "display_data",
          "data": {
            "image/png": "[encoded data removed]",
            "text/plain": [
              "<Figure size 1080x648 with 2 Axes>"
            ]
          },
          "metadata": {
            "needs_background": "light"
          }
        }
      ]
    },
    {
      "cell_type": "markdown",
      "source": [
        "The rate of drug-related stops increased even though the search rate decreased, disproving our hypothesis.\n",
        "\n",
        "# ***Computing a frequency table***\n",
        "\n",
        "* **`Frequency table`**: Tally of how many times each combination of values\n",
        "occurs"
      ],
      "metadata": {
        "id": "hh5yinidsZuu"
      }
    },
    {
      "cell_type": "code",
      "source": [
        "import matplotlib.pyplot as plt\n",
        "import pandas as pd\n",
        "pd.options.display.float_format = '{:,.2f}'.format\n",
        "\n",
        "ri = pd.read_csv('police.csv')\n",
        "ri.drop(['county_name', 'state'], axis='columns', inplace=True)\n",
        "ri.dropna(subset=['driver_gender'], inplace=True)\n",
        "ri['is_arrested'] = ri['is_arrested'].astype('bool')\n",
        "combined = ri['stop_date'].str.cat(ri['stop_time'], sep=' ')\n",
        "ri['stop_datetime'] = pd.to_datetime(combined)\n",
        "ri.set_index('stop_datetime', inplace=True)\n",
        "ri['frisk'] = ri['search_type'].str.contains('Protective Frisk', na=False)\n",
        "hourly_arrest_rate = ri.groupby(ri.index.hour)['is_arrested'].mean()\n",
        "annual_drug_rate = ri['drugs_related_stop'].resample('A').mean()\n",
        "annual_search_rate = ri['search_conducted'].resample('A').mean()\n",
        "annual = pd.concat([annual_drug_rate, annual_search_rate], axis='columns')\n",
        "\n",
        "print(ri[(ri['driver_race'] == 'Asian') & (ri['driver_gender'] == 'F')].shape)\n",
        "table = pd.crosstab(ri['driver_race'], ri['driver_gender'])\n",
        "table"
      ],
      "metadata": {
        "colab": {
          "base_uri": "https://localhost:8080/",
          "height": 255
        },
        "id": "X7R8o3OXrrI9",
        "outputId": "cd9ae325-4105-4069-c6f7-409a96b6e53c"
      },
      "execution_count": 7,
      "outputs": [
        {
          "output_type": "stream",
          "name": "stdout",
          "text": [
            "(551, 14)\n"
          ]
        },
        {
          "output_type": "execute_result",
          "data": {
            "text/html": [
              "\n",
              "  <div id=\"df-7da94801-ba98-482e-9c9f-3e5f455371be\">\n",
              "    <div class=\"colab-df-container\">\n",
              "      <div>\n",
              "<style scoped>\n",
              "    .dataframe tbody tr th:only-of-type {\n",
              "        vertical-align: middle;\n",
              "    }\n",
              "\n",
              "    .dataframe tbody tr th {\n",
              "        vertical-align: top;\n",
              "    }\n",
              "\n",
              "    .dataframe thead th {\n",
              "        text-align: right;\n",
              "    }\n",
              "</style>\n",
              "<table border=\"1\" class=\"dataframe\">\n",
              "  <thead>\n",
              "    <tr style=\"text-align: right;\">\n",
              "      <th>driver_gender</th>\n",
              "      <th>F</th>\n",
              "      <th>M</th>\n",
              "    </tr>\n",
              "    <tr>\n",
              "      <th>driver_race</th>\n",
              "      <th></th>\n",
              "      <th></th>\n",
              "    </tr>\n",
              "  </thead>\n",
              "  <tbody>\n",
              "    <tr>\n",
              "      <th>Asian</th>\n",
              "      <td>551</td>\n",
              "      <td>1838</td>\n",
              "    </tr>\n",
              "    <tr>\n",
              "      <th>Black</th>\n",
              "      <td>2681</td>\n",
              "      <td>9604</td>\n",
              "    </tr>\n",
              "    <tr>\n",
              "      <th>Hispanic</th>\n",
              "      <td>1953</td>\n",
              "      <td>7774</td>\n",
              "    </tr>\n",
              "    <tr>\n",
              "      <th>Other</th>\n",
              "      <td>53</td>\n",
              "      <td>212</td>\n",
              "    </tr>\n",
              "    <tr>\n",
              "      <th>White</th>\n",
              "      <td>18536</td>\n",
              "      <td>43334</td>\n",
              "    </tr>\n",
              "  </tbody>\n",
              "</table>\n",
              "</div>\n",
              "      <button class=\"colab-df-convert\" onclick=\"convertToInteractive('df-7da94801-ba98-482e-9c9f-3e5f455371be')\"\n",
              "              title=\"Convert this dataframe to an interactive table.\"\n",
              "              style=\"display:none;\">\n",
              "        \n",
              "  <svg xmlns=\"http://www.w3.org/2000/svg\" height=\"24px\"viewBox=\"0 0 24 24\"\n",
              "       width=\"24px\">\n",
              "    <path d=\"M0 0h24v24H0V0z\" fill=\"none\"/>\n",
              "    <path d=\"M18.56 5.44l.94 2.06.94-2.06 2.06-.94-2.06-.94-.94-2.06-.94 2.06-2.06.94zm-11 1L8.5 8.5l.94-2.06 2.06-.94-2.06-.94L8.5 2.5l-.94 2.06-2.06.94zm10 10l.94 2.06.94-2.06 2.06-.94-2.06-.94-.94-2.06-.94 2.06-2.06.94z\"/><path d=\"M17.41 7.96l-1.37-1.37c-.4-.4-.92-.59-1.43-.59-.52 0-1.04.2-1.43.59L10.3 9.45l-7.72 7.72c-.78.78-.78 2.05 0 2.83L4 21.41c.39.39.9.59 1.41.59.51 0 1.02-.2 1.41-.59l7.78-7.78 2.81-2.81c.8-.78.8-2.07 0-2.86zM5.41 20L4 18.59l7.72-7.72 1.47 1.35L5.41 20z\"/>\n",
              "  </svg>\n",
              "      </button>\n",
              "      \n",
              "  <style>\n",
              "    .colab-df-container {\n",
              "      display:flex;\n",
              "      flex-wrap:wrap;\n",
              "      gap: 12px;\n",
              "    }\n",
              "\n",
              "    .colab-df-convert {\n",
              "      background-color: #E8F0FE;\n",
              "      border: none;\n",
              "      border-radius: 50%;\n",
              "      cursor: pointer;\n",
              "      display: none;\n",
              "      fill: #1967D2;\n",
              "      height: 32px;\n",
              "      padding: 0 0 0 0;\n",
              "      width: 32px;\n",
              "    }\n",
              "\n",
              "    .colab-df-convert:hover {\n",
              "      background-color: #E2EBFA;\n",
              "      box-shadow: 0px 1px 2px rgba(60, 64, 67, 0.3), 0px 1px 3px 1px rgba(60, 64, 67, 0.15);\n",
              "      fill: #174EA6;\n",
              "    }\n",
              "\n",
              "    [theme=dark] .colab-df-convert {\n",
              "      background-color: #3B4455;\n",
              "      fill: #D2E3FC;\n",
              "    }\n",
              "\n",
              "    [theme=dark] .colab-df-convert:hover {\n",
              "      background-color: #434B5C;\n",
              "      box-shadow: 0px 1px 3px 1px rgba(0, 0, 0, 0.15);\n",
              "      filter: drop-shadow(0px 1px 2px rgba(0, 0, 0, 0.3));\n",
              "      fill: #FFFFFF;\n",
              "    }\n",
              "  </style>\n",
              "\n",
              "      <script>\n",
              "        const buttonEl =\n",
              "          document.querySelector('#df-7da94801-ba98-482e-9c9f-3e5f455371be button.colab-df-convert');\n",
              "        buttonEl.style.display =\n",
              "          google.colab.kernel.accessAllowed ? 'block' : 'none';\n",
              "\n",
              "        async function convertToInteractive(key) {\n",
              "          const element = document.querySelector('#df-7da94801-ba98-482e-9c9f-3e5f455371be');\n",
              "          const dataTable =\n",
              "            await google.colab.kernel.invokeFunction('convertToInteractive',\n",
              "                                                     [key], {});\n",
              "          if (!dataTable) return;\n",
              "\n",
              "          const docLinkHtml = 'Like what you see? Visit the ' +\n",
              "            '<a target=\"_blank\" href=https://colab.research.google.com/notebooks/data_table.ipynb>data table notebook</a>'\n",
              "            + ' to learn more about interactive tables.';\n",
              "          element.innerHTML = '';\n",
              "          dataTable['output_type'] = 'display_data';\n",
              "          await google.colab.output.renderOutput(dataTable, element);\n",
              "          const docLink = document.createElement('div');\n",
              "          docLink.innerHTML = docLinkHtml;\n",
              "          element.appendChild(docLink);\n",
              "        }\n",
              "      </script>\n",
              "    </div>\n",
              "  </div>\n",
              "  "
            ],
            "text/plain": [
              "driver_gender      F      M\n",
              "driver_race                \n",
              "Asian            551   1838\n",
              "Black           2681   9604\n",
              "Hispanic        1953   7774\n",
              "Other             53    212\n",
              "White          18536  43334"
            ]
          },
          "metadata": {},
          "execution_count": 7
        }
      ]
    },
    {
      "cell_type": "code",
      "source": [
        "table.plot(kind='bar', figsize=(12,6))\n",
        "table.plot(kind='bar', figsize=(12,6), stacked=True)\n",
        "plt.show()"
      ],
      "metadata": {
        "colab": {
          "base_uri": "https://localhost:8080/",
          "height": 827
        },
        "id": "v2ymbKtZsD36",
        "outputId": "91330f25-d9c6-42c4-cc0b-2b0bbf2ebdc8"
      },
      "execution_count": 6,
      "outputs": [
        {
          "output_type": "display_data",
          "data": {
            "image/png": "[encoded data removed]",
            "text/plain": [
              "<Figure size 864x432 with 1 Axes>"
            ]
          },
          "metadata": {
            "needs_background": "light"
          }
        },
        {
          "output_type": "display_data",
          "data": {
            "image/png": "[encoded data removed]",
            "text/plain": [
              "<Figure size 864x432 with 1 Axes>"
            ]
          },
          "metadata": {
            "needs_background": "light"
          }
        }
      ]
    },
    {
      "cell_type": "markdown",
      "source": [
        "### ***Tallying violations by district***\n",
        "\n",
        "The state of Rhode Island is broken into six police districts, also known as zones. How do the zones compare in terms of what violations are caught by police?\n",
        "\n",
        "In this exercise, you'll create a frequency table to determine how many violations of each type took place in each of the six zones. Then, you'll filter the table to focus on the \"K\" zones, which you'll examine further in the next exercise.\n",
        "\n",
        "* Create a frequency table from the `ri` DataFrame's `district` and `violation` columns using the **`pd.crosstab()`** function.\n",
        "* Save the frequency table as a new object, `all_zones`.\n",
        "* Select rows `'Zone K1'` through `'Zone K3'` from `all_zones` using the **`.loc[]`** accessor.\n",
        "* Save the smaller table as a new object, `k_zones`."
      ],
      "metadata": {
        "id": "m0k33dGwu0RU"
      }
    },
    {
      "cell_type": "code",
      "source": [
        "import matplotlib.pyplot as plt\n",
        "import pandas as pd\n",
        "pd.options.display.float_format = '{:,.2f}'.format\n",
        "\n",
        "ri = pd.read_csv('police.csv')\n",
        "ri.drop(['county_name', 'state'], axis='columns', inplace=True)\n",
        "ri.dropna(subset=['driver_gender'], inplace=True)\n",
        "ri['is_arrested'] = ri['is_arrested'].astype('bool')\n",
        "combined = ri['stop_date'].str.cat(ri['stop_time'], sep=' ')\n",
        "ri['stop_datetime'] = pd.to_datetime(combined)\n",
        "ri.set_index('stop_datetime', inplace=True)\n",
        "ri['frisk'] = ri['search_type'].str.contains('Protective Frisk', na=False)\n",
        "hourly_arrest_rate = ri.groupby(ri.index.hour)['is_arrested'].mean()\n",
        "annual_drug_rate = ri['drugs_related_stop'].resample('A').mean()\n",
        "annual_search_rate = ri['search_conducted'].resample('A').mean()\n",
        "annual = pd.concat([annual_drug_rate, annual_search_rate], axis='columns')\n",
        "\n",
        "# Create a frequency table of districts and violations\n",
        "display(pd.crosstab(ri['district'], ri['violation']))\n",
        "\n",
        "# Save the frequency table as 'all_zones'\n",
        "all_zones = pd.crosstab(ri['district'], ri['violation'])\n",
        "\n",
        "# Select rows 'Zone K1' through 'Zone K3'\n",
        "display(all_zones.loc['Zone K1':'Zone K3'])\n",
        "\n",
        "# Save the smaller table as 'k_zones'\n",
        "k_zones = all_zones.loc['Zone K1':'Zone K3']"
      ],
      "metadata": {
        "colab": {
          "base_uri": "https://localhost:8080/",
          "height": 426
        },
        "id": "3L4P_Q-xuIag",
        "outputId": "089d4c21-c7e8-4c54-b7cb-2cd6c445c7b9"
      },
      "execution_count": 9,
      "outputs": [
        {
          "output_type": "display_data",
          "data": {
            "text/html": [
              "\n",
              "  <div id=\"df-b49a234c-ae33-4c2f-a136-543e7c46c79e\">\n",
              "    <div class=\"colab-df-container\">\n",
              "      <div>\n",
              "<style scoped>\n",
              "    .dataframe tbody tr th:only-of-type {\n",
              "        vertical-align: middle;\n",
              "    }\n",
              "\n",
              "    .dataframe tbody tr th {\n",
              "        vertical-align: top;\n",
              "    }\n",
              "\n",
              "    .dataframe thead th {\n",
              "        text-align: right;\n",
              "    }\n",
              "</style>\n",
              "<table border=\"1\" class=\"dataframe\">\n",
              "  <thead>\n",
              "    <tr style=\"text-align: right;\">\n",
              "      <th>violation</th>\n",
              "      <th>Equipment</th>\n",
              "      <th>Moving violation</th>\n",
              "      <th>Other</th>\n",
              "      <th>Registration/plates</th>\n",
              "      <th>Seat belt</th>\n",
              "      <th>Speeding</th>\n",
              "    </tr>\n",
              "    <tr>\n",
              "      <th>district</th>\n",
              "      <th></th>\n",
              "      <th></th>\n",
              "      <th></th>\n",
              "      <th></th>\n",
              "      <th></th>\n",
              "      <th></th>\n",
              "    </tr>\n",
              "  </thead>\n",
              "  <tbody>\n",
              "    <tr>\n",
              "      <th>Zone K1</th>\n",
              "      <td>672</td>\n",
              "      <td>1254</td>\n",
              "      <td>290</td>\n",
              "      <td>120</td>\n",
              "      <td>0</td>\n",
              "      <td>5960</td>\n",
              "    </tr>\n",
              "    <tr>\n",
              "      <th>Zone K2</th>\n",
              "      <td>2061</td>\n",
              "      <td>2962</td>\n",
              "      <td>942</td>\n",
              "      <td>768</td>\n",
              "      <td>481</td>\n",
              "      <td>10448</td>\n",
              "    </tr>\n",
              "    <tr>\n",
              "      <th>Zone K3</th>\n",
              "      <td>2302</td>\n",
              "      <td>2898</td>\n",
              "      <td>705</td>\n",
              "      <td>695</td>\n",
              "      <td>638</td>\n",
              "      <td>12322</td>\n",
              "    </tr>\n",
              "    <tr>\n",
              "      <th>Zone X1</th>\n",
              "      <td>296</td>\n",
              "      <td>671</td>\n",
              "      <td>143</td>\n",
              "      <td>38</td>\n",
              "      <td>74</td>\n",
              "      <td>1119</td>\n",
              "    </tr>\n",
              "    <tr>\n",
              "      <th>Zone X3</th>\n",
              "      <td>2049</td>\n",
              "      <td>3086</td>\n",
              "      <td>769</td>\n",
              "      <td>671</td>\n",
              "      <td>820</td>\n",
              "      <td>8779</td>\n",
              "    </tr>\n",
              "    <tr>\n",
              "      <th>Zone X4</th>\n",
              "      <td>3541</td>\n",
              "      <td>5353</td>\n",
              "      <td>1560</td>\n",
              "      <td>1411</td>\n",
              "      <td>843</td>\n",
              "      <td>9795</td>\n",
              "    </tr>\n",
              "  </tbody>\n",
              "</table>\n",
              "</div>\n",
              "      <button class=\"colab-df-convert\" onclick=\"convertToInteractive('df-b49a234c-ae33-4c2f-a136-543e7c46c79e')\"\n",
              "              title=\"Convert this dataframe to an interactive table.\"\n",
              "              style=\"display:none;\">\n",
              "        \n",
              "  <svg xmlns=\"http://www.w3.org/2000/svg\" height=\"24px\"viewBox=\"0 0 24 24\"\n",
              "       width=\"24px\">\n",
              "    <path d=\"M0 0h24v24H0V0z\" fill=\"none\"/>\n",
              "    <path d=\"M18.56 5.44l.94 2.06.94-2.06 2.06-.94-2.06-.94-.94-2.06-.94 2.06-2.06.94zm-11 1L8.5 8.5l.94-2.06 2.06-.94-2.06-.94L8.5 2.5l-.94 2.06-2.06.94zm10 10l.94 2.06.94-2.06 2.06-.94-2.06-.94-.94-2.06-.94 2.06-2.06.94z\"/><path d=\"M17.41 7.96l-1.37-1.37c-.4-.4-.92-.59-1.43-.59-.52 0-1.04.2-1.43.59L10.3 9.45l-7.72 7.72c-.78.78-.78 2.05 0 2.83L4 21.41c.39.39.9.59 1.41.59.51 0 1.02-.2 1.41-.59l7.78-7.78 2.81-2.81c.8-.78.8-2.07 0-2.86zM5.41 20L4 18.59l7.72-7.72 1.47 1.35L5.41 20z\"/>\n",
              "  </svg>\n",
              "      </button>\n",
              "      \n",
              "  <style>\n",
              "    .colab-df-container {\n",
              "      display:flex;\n",
              "      flex-wrap:wrap;\n",
              "      gap: 12px;\n",
              "    }\n",
              "\n",
              "    .colab-df-convert {\n",
              "      background-color: #E8F0FE;\n",
              "      border: none;\n",
              "      border-radius: 50%;\n",
              "      cursor: pointer;\n",
              "      display: none;\n",
              "      fill: #1967D2;\n",
              "      height: 32px;\n",
              "      padding: 0 0 0 0;\n",
              "      width: 32px;\n",
              "    }\n",
              "\n",
              "    .colab-df-convert:hover {\n",
              "      background-color: #E2EBFA;\n",
              "      box-shadow: 0px 1px 2px rgba(60, 64, 67, 0.3), 0px 1px 3px 1px rgba(60, 64, 67, 0.15);\n",
              "      fill: #174EA6;\n",
              "    }\n",
              "\n",
              "    [theme=dark] .colab-df-convert {\n",
              "      background-color: #3B4455;\n",
              "      fill: #D2E3FC;\n",
              "    }\n",
              "\n",
              "    [theme=dark] .colab-df-convert:hover {\n",
              "      background-color: #434B5C;\n",
              "      box-shadow: 0px 1px 3px 1px rgba(0, 0, 0, 0.15);\n",
              "      filter: drop-shadow(0px 1px 2px rgba(0, 0, 0, 0.3));\n",
              "      fill: #FFFFFF;\n",
              "    }\n",
              "  </style>\n",
              "\n",
              "      <script>\n",
              "        const buttonEl =\n",
              "          document.querySelector('#df-b49a234c-ae33-4c2f-a136-543e7c46c79e button.colab-df-convert');\n",
              "        buttonEl.style.display =\n",
              "          google.colab.kernel.accessAllowed ? 'block' : 'none';\n",
              "\n",
              "        async function convertToInteractive(key) {\n",
              "          const element = document.querySelector('#df-b49a234c-ae33-4c2f-a136-543e7c46c79e');\n",
              "          const dataTable =\n",
              "            await google.colab.kernel.invokeFunction('convertToInteractive',\n",
              "                                                     [key], {});\n",
              "          if (!dataTable) return;\n",
              "\n",
              "          const docLinkHtml = 'Like what you see? Visit the ' +\n",
              "            '<a target=\"_blank\" href=https://colab.research.google.com/notebooks/data_table.ipynb>data table notebook</a>'\n",
              "            + ' to learn more about interactive tables.';\n",
              "          element.innerHTML = '';\n",
              "          dataTable['output_type'] = 'display_data';\n",
              "          await google.colab.output.renderOutput(dataTable, element);\n",
              "          const docLink = document.createElement('div');\n",
              "          docLink.innerHTML = docLinkHtml;\n",
              "          element.appendChild(docLink);\n",
              "        }\n",
              "      </script>\n",
              "    </div>\n",
              "  </div>\n",
              "  "
            ],
            "text/plain": [
              "violation  Equipment  Moving violation  ...  Seat belt  Speeding\n",
              "district                                ...                     \n",
              "Zone K1          672              1254  ...          0      5960\n",
              "Zone K2         2061              2962  ...        481     10448\n",
              "Zone K3         2302              2898  ...        638     12322\n",
              "Zone X1          296               671  ...         74      1119\n",
              "Zone X3         2049              3086  ...        820      8779\n",
              "Zone X4         3541              5353  ...        843      9795\n",
              "\n",
              "[6 rows x 6 columns]"
            ]
          },
          "metadata": {}
        },
        {
          "output_type": "display_data",
          "data": {
            "text/html": [
              "\n",
              "  <div id=\"df-052b2b76-bdde-4dd9-8826-e174e498696b\">\n",
              "    <div class=\"colab-df-container\">\n",
              "      <div>\n",
              "<style scoped>\n",
              "    .dataframe tbody tr th:only-of-type {\n",
              "        vertical-align: middle;\n",
              "    }\n",
              "\n",
              "    .dataframe tbody tr th {\n",
              "        vertical-align: top;\n",
              "    }\n",
              "\n",
              "    .dataframe thead th {\n",
              "        text-align: right;\n",
              "    }\n",
              "</style>\n",
              "<table border=\"1\" class=\"dataframe\">\n",
              "  <thead>\n",
              "    <tr style=\"text-align: right;\">\n",
              "      <th>violation</th>\n",
              "      <th>Equipment</th>\n",
              "      <th>Moving violation</th>\n",
              "      <th>Other</th>\n",
              "      <th>Registration/plates</th>\n",
              "      <th>Seat belt</th>\n",
              "      <th>Speeding</th>\n",
              "    </tr>\n",
              "    <tr>\n",
              "      <th>district</th>\n",
              "      <th></th>\n",
              "      <th></th>\n",
              "      <th></th>\n",
              "      <th></th>\n",
              "      <th></th>\n",
              "      <th></th>\n",
              "    </tr>\n",
              "  </thead>\n",
              "  <tbody>\n",
              "    <tr>\n",
              "      <th>Zone K1</th>\n",
              "      <td>672</td>\n",
              "      <td>1254</td>\n",
              "      <td>290</td>\n",
              "      <td>120</td>\n",
              "      <td>0</td>\n",
              "      <td>5960</td>\n",
              "    </tr>\n",
              "    <tr>\n",
              "      <th>Zone K2</th>\n",
              "      <td>2061</td>\n",
              "      <td>2962</td>\n",
              "      <td>942</td>\n",
              "      <td>768</td>\n",
              "      <td>481</td>\n",
              "      <td>10448</td>\n",
              "    </tr>\n",
              "    <tr>\n",
              "      <th>Zone K3</th>\n",
              "      <td>2302</td>\n",
              "      <td>2898</td>\n",
              "      <td>705</td>\n",
              "      <td>695</td>\n",
              "      <td>638</td>\n",
              "      <td>12322</td>\n",
              "    </tr>\n",
              "  </tbody>\n",
              "</table>\n",
              "</div>\n",
              "      <button class=\"colab-df-convert\" onclick=\"convertToInteractive('df-052b2b76-bdde-4dd9-8826-e174e498696b')\"\n",
              "              title=\"Convert this dataframe to an interactive table.\"\n",
              "              style=\"display:none;\">\n",
              "        \n",
              "  <svg xmlns=\"http://www.w3.org/2000/svg\" height=\"24px\"viewBox=\"0 0 24 24\"\n",
              "       width=\"24px\">\n",
              "    <path d=\"M0 0h24v24H0V0z\" fill=\"none\"/>\n",
              "    <path d=\"M18.56 5.44l.94 2.06.94-2.06 2.06-.94-2.06-.94-.94-2.06-.94 2.06-2.06.94zm-11 1L8.5 8.5l.94-2.06 2.06-.94-2.06-.94L8.5 2.5l-.94 2.06-2.06.94zm10 10l.94 2.06.94-2.06 2.06-.94-2.06-.94-.94-2.06-.94 2.06-2.06.94z\"/><path d=\"M17.41 7.96l-1.37-1.37c-.4-.4-.92-.59-1.43-.59-.52 0-1.04.2-1.43.59L10.3 9.45l-7.72 7.72c-.78.78-.78 2.05 0 2.83L4 21.41c.39.39.9.59 1.41.59.51 0 1.02-.2 1.41-.59l7.78-7.78 2.81-2.81c.8-.78.8-2.07 0-2.86zM5.41 20L4 18.59l7.72-7.72 1.47 1.35L5.41 20z\"/>\n",
              "  </svg>\n",
              "      </button>\n",
              "      \n",
              "  <style>\n",
              "    .colab-df-container {\n",
              "      display:flex;\n",
              "      flex-wrap:wrap;\n",
              "      gap: 12px;\n",
              "    }\n",
              "\n",
              "    .colab-df-convert {\n",
              "      background-color: #E8F0FE;\n",
              "      border: none;\n",
              "      border-radius: 50%;\n",
              "      cursor: pointer;\n",
              "      display: none;\n",
              "      fill: #1967D2;\n",
              "      height: 32px;\n",
              "      padding: 0 0 0 0;\n",
              "      width: 32px;\n",
              "    }\n",
              "\n",
              "    .colab-df-convert:hover {\n",
              "      background-color: #E2EBFA;\n",
              "      box-shadow: 0px 1px 2px rgba(60, 64, 67, 0.3), 0px 1px 3px 1px rgba(60, 64, 67, 0.15);\n",
              "      fill: #174EA6;\n",
              "    }\n",
              "\n",
              "    [theme=dark] .colab-df-convert {\n",
              "      background-color: #3B4455;\n",
              "      fill: #D2E3FC;\n",
              "    }\n",
              "\n",
              "    [theme=dark] .colab-df-convert:hover {\n",
              "      background-color: #434B5C;\n",
              "      box-shadow: 0px 1px 3px 1px rgba(0, 0, 0, 0.15);\n",
              "      filter: drop-shadow(0px 1px 2px rgba(0, 0, 0, 0.3));\n",
              "      fill: #FFFFFF;\n",
              "    }\n",
              "  </style>\n",
              "\n",
              "      <script>\n",
              "        const buttonEl =\n",
              "          document.querySelector('#df-052b2b76-bdde-4dd9-8826-e174e498696b button.colab-df-convert');\n",
              "        buttonEl.style.display =\n",
              "          google.colab.kernel.accessAllowed ? 'block' : 'none';\n",
              "\n",
              "        async function convertToInteractive(key) {\n",
              "          const element = document.querySelector('#df-052b2b76-bdde-4dd9-8826-e174e498696b');\n",
              "          const dataTable =\n",
              "            await google.colab.kernel.invokeFunction('convertToInteractive',\n",
              "                                                     [key], {});\n",
              "          if (!dataTable) return;\n",
              "\n",
              "          const docLinkHtml = 'Like what you see? Visit the ' +\n",
              "            '<a target=\"_blank\" href=https://colab.research.google.com/notebooks/data_table.ipynb>data table notebook</a>'\n",
              "            + ' to learn more about interactive tables.';\n",
              "          element.innerHTML = '';\n",
              "          dataTable['output_type'] = 'display_data';\n",
              "          await google.colab.output.renderOutput(dataTable, element);\n",
              "          const docLink = document.createElement('div');\n",
              "          docLink.innerHTML = docLinkHtml;\n",
              "          element.appendChild(docLink);\n",
              "        }\n",
              "      </script>\n",
              "    </div>\n",
              "  </div>\n",
              "  "
            ],
            "text/plain": [
              "violation  Equipment  Moving violation  ...  Seat belt  Speeding\n",
              "district                                ...                     \n",
              "Zone K1          672              1254  ...          0      5960\n",
              "Zone K2         2061              2962  ...        481     10448\n",
              "Zone K3         2302              2898  ...        638     12322\n",
              "\n",
              "[3 rows x 6 columns]"
            ]
          },
          "metadata": {}
        }
      ]
    },
    {
      "cell_type": "markdown",
      "source": [
        "### ***Plotting violations by district***\n",
        "\n",
        "Now that you've created a frequency table focused on the \"K\" zones, you'll visualize the data to help you compare what violations are being caught in each zone.\n",
        "\n",
        "First you'll create a `bar` plot, which is an appropriate plot type since you're comparing categorical data. Then you'll create a stacked bar plot in order to get a slightly different look at the data. Which plot do you find to be more insightful?\n",
        "\n",
        "* Create a bar plot of `k_zones`.\n",
        "* Display the plot and examine it. What do you notice about each of the zones?\n",
        "* Create a stacked bar plot of `k_zones`.\n",
        "* Display the plot and examine it. Do you notice anything different about the data than you did previously?"
      ],
      "metadata": {
        "id": "icuxDBe2wLbd"
      }
    },
    {
      "cell_type": "code",
      "source": [
        "# Create a bar plot of 'k_zones'\n",
        "k_zones.plot(kind='bar')\n",
        "\n",
        "# Display the plot\n",
        "plt.show()\n",
        "\n",
        "# Create a stacked bar plot of 'k_zones'\n",
        "k_zones.plot(kind='bar', stacked=True)\n",
        "\n",
        "# Display the plot\n",
        "plt.show()\n",
        "\n"
      ],
      "metadata": {
        "colab": {
          "base_uri": "https://localhost:8080/",
          "height": 605
        },
        "id": "II5OHm3bwBuY",
        "outputId": "f672e7c5-0fd4-4b24-e76f-85d1c819f416"
      },
      "execution_count": 10,
      "outputs": [
        {
          "output_type": "display_data",
          "data": {
            "image/png": "[encoded data removed]",
            "text/plain": [
              "<Figure size 432x288 with 1 Axes>"
            ]
          },
          "metadata": {
            "needs_background": "light"
          }
        },
        {
          "output_type": "display_data",
          "data": {
            "image/png": "[encoded data removed]",
            "text/plain": [
              "<Figure size 432x288 with 1 Axes>"
            ]
          },
          "metadata": {
            "needs_background": "light"
          }
        }
      ]
    },
    {
      "cell_type": "markdown",
      "source": [
        "The vast majority of traffic stops in Zone K1 are for speeding, and Zones K2 and K3 are remarkably similar to one another in terms of violations.\n",
        "\n",
        "# ***Mapping one set of values to another***\n",
        "\n",
        "* Dictionary maps the values you have to the values you want\n",
        "\n"
      ],
      "metadata": {
        "id": "OuTWqja0xLHc"
      }
    },
    {
      "cell_type": "code",
      "source": [
        "mapping = {'string1':val_1, 'string2':val_2}\n",
        "df['new_col'] = df['old_col'].map(mapping)"
      ],
      "metadata": {
        "id": "Hcws5r4KxByi"
      },
      "execution_count": null,
      "outputs": []
    },
    {
      "cell_type": "markdown",
      "source": [
        "### ***Converting stop durations to numbers***\n",
        "\n",
        "In the traffic stops dataset, the `stop_duration` column tells you approximately how long the driver was detained by the officer. Unfortunately, the durations are stored as strings, such as `'0-15 Min'`. How can you make this data easier to analyze?\n",
        "\n",
        "In this exercise, you'll convert the stop durations to integers. Because the precise durations are not available, you'll have to estimate the numbers using reasonable values:\n",
        "\n",
        "* Convert `'0-15 Min'` to `8`\n",
        "* Convert `'16-30 Min'` to `23`\n",
        "* Convert `'30+ Min'` to `45`\n",
        "\n",
        "* Print the unique values in the `stop_duration` column. \n",
        "* Create a dictionary called `mapping` that maps the `stop_duration` strings to the specified integers.\n",
        "* Convert the `stop_duration` strings to integers using the `mapping`, and store the results in a new column called `stop_minutes`.\n",
        "* Print the unique values in the `stop_minutes` column, to verify that the durations were properly converted to integers."
      ],
      "metadata": {
        "id": "T6y339lCyzuK"
      }
    },
    {
      "cell_type": "code",
      "source": [
        "import matplotlib.pyplot as plt\n",
        "import pandas as pd\n",
        "pd.options.display.float_format = '{:,.2f}'.format\n",
        "\n",
        "ri = pd.read_csv('police.csv')\n",
        "ri.drop(['county_name', 'state'], axis='columns', inplace=True)\n",
        "ri.dropna(subset=['driver_gender'], inplace=True)\n",
        "ri['is_arrested'] = ri['is_arrested'].astype('bool')\n",
        "combined = ri['stop_date'].str.cat(ri['stop_time'], sep=' ')\n",
        "ri['stop_datetime'] = pd.to_datetime(combined)\n",
        "ri.set_index('stop_datetime', inplace=True)\n",
        "ri['frisk'] = ri['search_type'].str.contains('Protective Frisk', na=False)\n",
        "hourly_arrest_rate = ri.groupby(ri.index.hour)['is_arrested'].mean()\n",
        "annual_drug_rate = ri['drugs_related_stop'].resample('A').mean()\n",
        "annual_search_rate = ri['search_conducted'].resample('A').mean()\n",
        "annual = pd.concat([annual_drug_rate, annual_search_rate], axis='columns')\n",
        "all_zones = pd.crosstab(ri['district'], ri['violation'])\n",
        "k_zones = all_zones.loc['Zone K1':'Zone K3']\n",
        "\n",
        "# Print the unique values in 'stop_duration'\n",
        "print(ri['stop_duration'].unique())\n",
        "\n",
        "# Create a dictionary that maps strings to integers\n",
        "mapping = {'0-15 Min': 8, '16-30 Min': 23, '30+ Min': 45}\n",
        "\n",
        "# Convert the 'stop_duration' strings to integers using the 'mapping'\n",
        "ri['stop_minutes'] = ri.stop_duration.map(mapping)\n",
        "\n",
        "# Print the unique values in 'stop_minutes'\n",
        "print(ri['stop_minutes'].unique())"
      ],
      "metadata": {
        "colab": {
          "base_uri": "https://localhost:8080/"
        },
        "id": "tCuudSml0Qzw",
        "outputId": "bd8be44b-a66e-4411-dd8b-9f70125b52a7"
      },
      "execution_count": 11,
      "outputs": [
        {
          "output_type": "stream",
          "name": "stdout",
          "text": [
            "['0-15 Min' '16-30 Min' '30+ Min']\n",
            "[ 8 23 45]\n"
          ]
        }
      ]
    },
    {
      "cell_type": "markdown",
      "source": [
        "### ***Plotting stop length***\n",
        "\n",
        "\n",
        "If you were stopped for a particular violation, how long might you expect to be detained?\n",
        "\n",
        "In this exercise, you'll visualize the average length of time drivers are stopped for each type of violation. Rather than using the violation column in this exercise, you'll use `violation_raw` since it contains more detailed descriptions of the violations.\n",
        "\n",
        "* For each value in the `ri` DataFrame's `violation_raw` column, calculate the mean number of `stop_minutes` that a driver is detained.\n",
        "* Save the resulting Series as a new object, `stop_length`.\n",
        "* Sort `stop_length` by its values, and then visualize it using a horizontal `bar` plot.\n"
      ],
      "metadata": {
        "id": "sUWApFZw1B62"
      }
    },
    {
      "cell_type": "code",
      "source": [
        "import matplotlib.pyplot as plt\n",
        "import pandas as pd\n",
        "pd.options.display.float_format = '{:,.2f}'.format\n",
        "\n",
        "ri = pd.read_csv('police.csv')\n",
        "ri.drop(['county_name', 'state'], axis='columns', inplace=True)\n",
        "ri.dropna(subset=['driver_gender'], inplace=True)\n",
        "ri['is_arrested'] = ri['is_arrested'].astype('bool')\n",
        "combined = ri['stop_date'].str.cat(ri['stop_time'], sep=' ')\n",
        "ri['stop_datetime'] = pd.to_datetime(combined)\n",
        "ri.set_index('stop_datetime', inplace=True)\n",
        "ri['frisk'] = ri['search_type'].str.contains('Protective Frisk', na=False)\n",
        "hourly_arrest_rate = ri.groupby(ri.index.hour)['is_arrested'].mean()\n",
        "annual_drug_rate = ri['drugs_related_stop'].resample('A').mean()\n",
        "annual_search_rate = ri['search_conducted'].resample('A').mean()\n",
        "annual = pd.concat([annual_drug_rate, annual_search_rate], axis='columns')\n",
        "all_zones = pd.crosstab(ri['district'], ri['violation'])\n",
        "k_zones = all_zones.loc['Zone K1':'Zone K3']\n",
        "mapping = {'0-15 Min': 8, '16-30 Min': 23, '30+ Min': 45}\n",
        "ri['stop_minutes'] = ri.stop_duration.map(mapping)\n",
        "\n",
        "# Calculate the mean 'stop_minutes' for each value in 'violation_raw'\n",
        "print(ri.groupby('violation_raw')['stop_minutes'].mean())\n",
        "\n",
        "# Save the resulting Series as 'stop_length'\n",
        "stop_length = ri.groupby('violation_raw')['stop_minutes'].mean()\n",
        "\n",
        "# Sort 'stop_length' by its values and create a horizontal bar plot\n",
        "stop_length.sort_values().plot(kind='barh')\n",
        "\n",
        "# Display the plot\n",
        "plt.show()"
      ],
      "metadata": {
        "colab": {
          "base_uri": "https://localhost:8080/",
          "height": 521
        },
        "id": "xz-0cdKY1W5Y",
        "outputId": "8ab3c3a8-1c32-496f-fa2f-b77672564a61"
      },
      "execution_count": 14,
      "outputs": [
        {
          "output_type": "stream",
          "name": "stdout",
          "text": [
            "violation_raw\n",
            "APB                                17.97\n",
            "Call for Service                   22.12\n",
            "Equipment/Inspection Violation     11.45\n",
            "Motorist Assist/Courtesy           17.74\n",
            "Other Traffic Violation            13.84\n",
            "Registration Violation             13.74\n",
            "Seatbelt Violation                  9.66\n",
            "Special Detail/Directed Patrol     15.12\n",
            "Speeding                           10.58\n",
            "Suspicious Person                  14.91\n",
            "Violation of City/Town Ordinance   13.25\n",
            "Warrant                            24.06\n",
            "Name: stop_minutes, dtype: float64\n"
          ]
        },
        {
          "output_type": "display_data",
          "data": {
            "image/png": "[encoded data removed]",
            "text/plain": [
              "<Figure size 432x288 with 1 Axes>"
            ]
          },
          "metadata": {
            "needs_background": "light"
          }
        }
      ]
    },
    {
      "cell_type": "markdown",
      "source": [
        "### ***Plotting the temperature***\n",
        "\n",
        "In this exercise, you'll examine the temperature columns from the weather dataset to assess whether the data seems trustworthy. First you'll print the summary statistics, and then you'll visualize the data using a `box` plot.\n",
        "\n",
        "When deciding whether the values seem reasonable, keep in mind that the temperature is measured in degrees Fahrenheit, not Celsius!\n",
        "\n",
        "* Read `weather.csv` into a DataFrame named `weather`.\n",
        "* Select the temperature columns (`TMIN`, `TAVG`, `TMAX`) and print their summary statistics using the **`.describe()`** method.\n",
        "* Create a `box` plot to visualize the temperature columns."
      ],
      "metadata": {
        "id": "HicGi59D4y9_"
      }
    },
    {
      "cell_type": "code",
      "source": [
        "import pandas as pd\n",
        "import matplotlib.pyplot as plt\n",
        "pd.options.display.float_format = '{:,.2f}'.format\n",
        "\n",
        "weather = pd.read_csv('weather.csv')\n",
        "\n",
        "# Describe the temperature columns\n",
        "print(weather[['TMIN', 'TAVG', 'TMAX']].describe())\n",
        "\n",
        "# Create a box plot of the temperature columns\n",
        "weather[['TMIN', 'TAVG', 'TMAX']].plot(kind='box', figsize=(16,7))\n",
        "plt.xticks(rotation=45)\n",
        "plt.show()"
      ],
      "metadata": {
        "colab": {
          "base_uri": "https://localhost:8080/",
          "height": 667
        },
        "id": "DeRx5vco1YJU",
        "outputId": "e2cf7ccf-a1c0-40c0-9620-6dd43654b3cc"
      },
      "execution_count": 17,
      "outputs": [
        {
          "output_type": "stream",
          "name": "stdout",
          "text": [
            "          TMIN     TAVG     TMAX\n",
            "count 4,017.00 1,217.00 4,017.00\n",
            "mean     43.48    52.49    61.27\n",
            "std      17.02    17.83    18.20\n",
            "min      -5.00     6.00    15.00\n",
            "25%      30.00    39.00    47.00\n",
            "50%      44.00    54.00    62.00\n",
            "75%      58.00    68.00    77.00\n",
            "max      77.00    86.00   102.00\n"
          ]
        },
        {
          "output_type": "stream",
          "name": "stderr",
          "text": [
            "/usr/local/lib/python3.7/dist-packages/numpy/core/_asarray.py:83: VisibleDeprecationWarning: Creating an ndarray from ragged nested sequences (which is a list-or-tuple of lists-or-tuples-or ndarrays with different lengths or shapes) is deprecated. If you meant to do this, you must specify 'dtype=object' when creating the ndarray\n",
            "  return array(a, dtype, copy=False, order=order)\n"
          ]
        },
        {
          "output_type": "display_data",
          "data": {
            "image/png": "[encoded data removed]",
            "text/plain": [
              "<Figure size 1152x504 with 1 Axes>"
            ]
          },
          "metadata": {
            "needs_background": "light"
          }
        }
      ]
    },
    {
      "cell_type": "markdown",
      "source": [
        "The temperature data looks good so far: the `TAVG` values are in between `TMIN` and `TMAX`, and the measurements and ranges seem reasonable."
      ],
      "metadata": {
        "id": "Cqjvm8VI6Bv0"
      }
    },
    {
      "cell_type": "markdown",
      "source": [
        "### ***Plotting the temperature difference***\n",
        "\n",
        "In this exercise, you'll continue to assess whether the dataset seems trustworthy by plotting the difference between the maximum and minimum temperatures.\n",
        "\n",
        "What do you notice about the resulting histogram? Does it match your expectations, or do you see anything unusual?\n",
        "\n",
        "* Create a new column in the `weather` DataFrame named `TDIFF` that represents the difference between the maximum and minimum temperatures.\n",
        "* Print the summary statistics for `TDIFF` using the **`.describe()`** method.\n",
        "* Create a histogram with `20` bins to visualize `TDIFF`.\n"
      ],
      "metadata": {
        "id": "hfYNAfoD6Q4T"
      }
    },
    {
      "cell_type": "code",
      "source": [
        "import pandas as pd\n",
        "import matplotlib.pyplot as plt\n",
        "pd.options.display.float_format = '{:,.2f}'.format\n",
        "\n",
        "weather = pd.read_csv('weather.csv')\n",
        "\n",
        "# Create a 'TDIFF' column that represents temperature difference\n",
        "weather['TDIFF'] = weather['TMAX'] - weather['TMIN']\n",
        "\n",
        "# Describe the 'TDIFF' column\n",
        "print(weather['TDIFF'].describe())\n",
        "\n",
        "# Create a histogram with 20 bins to visualize 'TDIFF'\n",
        "weather['TDIFF'].hist(bins=20, edgecolor='white', figsize=(12,7))\n",
        "\n",
        "# Display the plot\n",
        "plt.show()"
      ],
      "metadata": {
        "colab": {
          "base_uri": "https://localhost:8080/",
          "height": 593
        },
        "id": "kEJAWXVs5ugl",
        "outputId": "4087a6e1-4c24-45cd-a2f4-0f32de187020"
      },
      "execution_count": 20,
      "outputs": [
        {
          "output_type": "stream",
          "name": "stdout",
          "text": [
            "count   4,017.00\n",
            "mean       17.78\n",
            "std         6.35\n",
            "min         2.00\n",
            "25%        14.00\n",
            "50%        18.00\n",
            "75%        22.00\n",
            "max        43.00\n",
            "Name: TDIFF, dtype: float64\n"
          ]
        },
        {
          "output_type": "display_data",
          "data": {
            "image/png": "[encoded data removed]",
            "text/plain": [
              "<Figure size 864x504 with 1 Axes>"
            ]
          },
          "metadata": {
            "needs_background": "light"
          }
        }
      ]
    },
    {
      "cell_type": "markdown",
      "source": [
        "`TDIFF` column has no negative values and its distribution is approximately normal, both of which are signs that the data is trustworthy.\n",
        "\n",
        "### ***Counting bad weather conditions***\n",
        "\n",
        "The `weather` DataFrame contains `20` columns that start with `'WT'`, each of which represents a bad weather condition. For example:\n",
        "\n",
        "* `WT05` indicates \"Hail\"\n",
        "* `WT11` indicates \"High or damaging winds\"\n",
        "* `WT17` indicates \"Freezing rain\"\n",
        "\n",
        "For every row in the dataset, each `WT` column contains either a `1` (meaning the condition was present that day) or `NaN` (meaning the condition was not present).\n",
        "\n",
        "In this exercise, you'll quantify \"how bad\" the weather was each day by counting the number of `1` values in each row.\n",
        "\n",
        "* Copy the columns `WT01` through `WT22` from `weather` to a new DataFrame named `WT`.\n",
        "* Calculate the sum of each row in `WT`, and store the results in a new weather column named `bad_conditions`.\n",
        "* Replace any missing values in `bad_conditions` with a `0`. \n",
        "* Create a histogram to visualize `bad_conditions`."
      ],
      "metadata": {
        "id": "WlJXSAjV7PYY"
      }
    },
    {
      "cell_type": "code",
      "source": [
        "import pandas as pd\n",
        "import matplotlib.pyplot as plt\n",
        "pd.options.display.float_format = '{:,.2f}'.format\n",
        "\n",
        "weather = pd.read_csv('weather.csv')\n",
        "weather['TDIFF'] = weather['TMAX'] - weather['TMIN']\n",
        "\n",
        "# Copy 'WT01' through 'WT22' to a new DataFrame\n",
        "WT = weather.loc[:, 'WT01':'WT22']\n",
        "\n",
        "# Calculate the sum of each row in 'WT'\n",
        "weather['bad_conditions'] = WT.sum(axis='columns')\n",
        "\n",
        "# Replace missing values in 'bad_conditions' with '0'\n",
        "weather['bad_conditions'] = weather.bad_conditions.fillna(0).astype('int')\n",
        "\n",
        "# Create a histogram to visualize 'bad_conditions'\n",
        "weather['bad_conditions'].plot(kind='hist', figsize=(13,6), edgecolor='white')\n",
        "\n",
        "# Display the plot\n",
        "plt.show()"
      ],
      "metadata": {
        "colab": {
          "base_uri": "https://localhost:8080/",
          "height": 374
        },
        "id": "K7iJrO2W7CLy",
        "outputId": "7c330a14-72ea-452b-f1e1-1954e75bcce6"
      },
      "execution_count": 22,
      "outputs": [
        {
          "output_type": "display_data",
          "data": {
            "image/png": "[encoded data removed]",
            "text/plain": [
              "<Figure size 936x432 with 1 Axes>"
            ]
          },
          "metadata": {
            "needs_background": "light"
          }
        }
      ]
    },
    {
      "cell_type": "markdown",
      "source": [
        "It looks like many days didn't have any bad weather conditions, and only a small portion of days had more than four bad weather conditions.\n",
        "\n",
        "### ***Rating the weather conditions***\n",
        "\n",
        "In the previous exercise, you counted the number of bad weather conditions each day. In this exercise, you'll use the counts to create a rating system for the weather.\n",
        "\n",
        "The counts range from `0` to `9`, and should be converted to ratings as follows:\n",
        "\n",
        "  * Convert `0` to `'good'`\n",
        "  * Convert `1` through `4` to `'bad'`\n",
        "  * Convert `5` through `9` to `'worse'`\n",
        "\n",
        "* Count the unique values in the `bad_conditions` column and sort the index. \n",
        "* Create a dictionary called `mapping` that maps the `bad_conditions` integers to the specified strings.\n",
        "* Convert the `bad_conditions` integers to strings using the `mapping` and store the results in a new column called `rating`.\n",
        "* Count the unique values in `rating` to verify that the integers were properly converted to strings."
      ],
      "metadata": {
        "id": "2sOmqyyt-vLs"
      }
    },
    {
      "cell_type": "code",
      "source": [
        "import pandas as pd\n",
        "import matplotlib.pyplot as plt\n",
        "pd.options.display.float_format = '{:,.2f}'.format\n",
        "\n",
        "weather = pd.read_csv('weather.csv')\n",
        "weather['TDIFF'] = weather['TMAX'] - weather['TMIN']\n",
        "WT = weather.loc[:, 'WT01':'WT22']\n",
        "weather['bad_conditions'] = WT.sum(axis='columns')\n",
        "weather['bad_conditions'] = weather.bad_conditions.fillna(0).astype('int')\n",
        "\n",
        "# Count the unique values in 'bad_conditions' and sort the index\n",
        "print(weather['bad_conditions'].value_counts().sort_index())\n",
        "\n",
        "# Create a dictionary that maps integers to strings\n",
        "mapping = {0:'good', 1:'bad', 2:'bad', 3:'bad', 4:'bad', 5:'worse', 6:'worse', 7:'worse', 8:'worse', 9:'worse'}\n",
        "\n",
        "# Convert the 'bad_conditions' integers to strings using the 'mapping'\n",
        "weather['rating'] = weather['bad_conditions'].map(mapping)\n",
        "\n",
        "# Count the unique values in 'rating'\n",
        "print(weather['rating'].value_counts())"
      ],
      "metadata": {
        "colab": {
          "base_uri": "https://localhost:8080/"
        },
        "id": "LVvSJmem-jTa",
        "outputId": "fd8ba09a-7158-4a33-b728-6702d587e6a2"
      },
      "execution_count": 23,
      "outputs": [
        {
          "output_type": "stream",
          "name": "stdout",
          "text": [
            "0    1749\n",
            "1     613\n",
            "2     367\n",
            "3     380\n",
            "4     476\n",
            "5     282\n",
            "6     101\n",
            "7      41\n",
            "8       4\n",
            "9       4\n",
            "Name: bad_conditions, dtype: int64\n",
            "bad      1836\n",
            "good     1749\n",
            "worse     432\n",
            "Name: rating, dtype: int64\n"
          ]
        }
      ]
    },
    {
      "cell_type": "markdown",
      "source": [
        "This rating system should make the weather condition data easier to understand.\n",
        "\n",
        "# ***Changing the data type to category***\n",
        "\n",
        "Since the rating column only has a few possible values, you'll change its data type to `category` in order to store the data more efficiently. You'll also specify a logical order for the categories, which will be useful for future exercises.\n",
        "\n",
        "* Create a list object called `cats` that lists the `weather` ratings in a logical order: `'good'`, `'bad'`, `'worse'`.\n",
        "* Change the data type of the rating column from `object` to `category`. Make sure to use the `cats` list to define the category ordering.\n",
        "* Examine the head of the `rating` column to confirm that the categories are logically ordered."
      ],
      "metadata": {
        "id": "Q51oEkfyAeJz"
      }
    },
    {
      "cell_type": "code",
      "source": [
        "import pandas as pd\n",
        "import matplotlib.pyplot as plt\n",
        "pd.options.display.float_format = '{:,.2f}'.format\n",
        "\n",
        "weather = pd.read_csv('weather.csv')\n",
        "weather['TDIFF'] = weather['TMAX'] - weather['TMIN']\n",
        "WT = weather.loc[:, 'WT01':'WT22']\n",
        "weather['bad_conditions'] = WT.sum(axis='columns')\n",
        "weather['bad_conditions'] = weather.bad_conditions.fillna(0).astype('int')\n",
        "mapping = {0:'good', 1:'bad', 2:'bad', 3:'bad', 4:'bad', 5:'worse', 6:'worse', 7:'worse', 8:'worse', 9:'worse'}\n",
        "weather['rating'] = weather['bad_conditions'].map(mapping)\n",
        "\n",
        "# Create a list of weather ratings in logical order\n",
        "cats = ['good', 'bad', 'worse']\n",
        "\n",
        "# Change the data type of 'rating' to category\n",
        "weather['rating'] = weather['rating'].astype('category')\n",
        "\n",
        "# Examine the head of 'rating'\n",
        "print(weather['rating'].head())"
      ],
      "metadata": {
        "colab": {
          "base_uri": "https://localhost:8080/"
        },
        "id": "jeHpkqQ7AbL-",
        "outputId": "386ebf8f-127f-48a6-c4b7-75979e2a76e5"
      },
      "execution_count": 30,
      "outputs": [
        {
          "output_type": "stream",
          "name": "stdout",
          "text": [
            "0    bad\n",
            "1    bad\n",
            "2    bad\n",
            "3    bad\n",
            "4    bad\n",
            "Name: rating, dtype: category\n",
            "Categories (3, object): ['bad', 'good', 'worse']\n"
          ]
        }
      ]
    },
    {
      "cell_type": "markdown",
      "source": [
        "### ***Preparing the DataFrames***\n",
        "\n",
        "In this exercise, you'll prepare the traffic stop and weather rating DataFrames so that they're ready to be merged:\n",
        "\n",
        "1. With the `ri` DataFrame, you'll move the `stop_datetime` index to a column since the index will be lost during the merge.\n",
        "2. With the `weather` DataFrame, you'll select the `DATE` and `rating` columns and put them in a new DataFrame.\n",
        "\n",
        "* Reset the index of the `ri` DataFrame.\n",
        "* Examine the head of `ri` to verify that `stop_datetime` is now a DataFrame column, and the index is now the default integer index.\n",
        "* Create a new DataFrame named `weather_rating` that contains only the `DATE` and `rating` columns from the `weather` DataFrame.\n",
        "* Examine the head of `weather_rating` to verify that it contains the proper columns."
      ],
      "metadata": {
        "id": "rUdnB8MeE2rc"
      }
    },
    {
      "cell_type": "code",
      "source": [
        "import pandas as pd\n",
        "import matplotlib.pyplot as plt\n",
        "pd.options.display.float_format = '{:,.2f}'.format\n",
        "\n",
        "weather = pd.read_csv('weather.csv')\n",
        "weather['TDIFF'] = weather['TMAX'] - weather['TMIN']\n",
        "WT = weather.loc[:, 'WT01':'WT22']\n",
        "weather['bad_conditions'] = WT.sum(axis='columns')\n",
        "weather['bad_conditions'] = weather.bad_conditions.fillna(0).astype('int')\n",
        "mapping = {0:'good', 1:'bad', 2:'bad', 3:'bad', 4:'bad', 5:'worse', 6:'worse', 7:'worse', 8:'worse', 9:'worse'}\n",
        "weather['rating'] = weather['bad_conditions'].map(mapping)\n",
        "cats = ['good', 'bad', 'worse']\n",
        "weather['rating'] = weather['rating'].astype('category')\n",
        "\n",
        "# Reset the index of 'ri'\n",
        "ri.reset_index(inplace=True)\n",
        "\n",
        "# Examine the head of 'ri'\n",
        "print(ri.head())\n",
        "\n",
        "# Create a DataFrame from the 'DATE' and 'rating' columns\n",
        "weather_rating = weather[['DATE', 'rating']]\n",
        "\n",
        "# Examine the head of 'weather_rating'\n",
        "print(weather_rating.head())"
      ],
      "metadata": {
        "colab": {
          "base_uri": "https://localhost:8080/"
        },
        "id": "8byneTCsBsYW",
        "outputId": "26ab31a0-79ab-4186-985a-dbc014bd4113"
      },
      "execution_count": 31,
      "outputs": [
        {
          "output_type": "stream",
          "name": "stdout",
          "text": [
            "        stop_datetime   stop_date stop_time  ... district  frisk stop_minutes\n",
            "0 2005-01-04 12:55:00  2005-01-04     12:55  ...  Zone X4  False            8\n",
            "1 2005-01-23 23:15:00  2005-01-23     23:15  ...  Zone K3  False            8\n",
            "2 2005-02-17 04:15:00  2005-02-17     04:15  ...  Zone X4  False            8\n",
            "3 2005-02-20 17:15:00  2005-02-20     17:15  ...  Zone X1  False           23\n",
            "4 2005-02-24 01:20:00  2005-02-24     01:20  ...  Zone X3  False            8\n",
            "\n",
            "[5 rows x 16 columns]\n",
            "         DATE rating\n",
            "0  2005-01-01    bad\n",
            "1  2005-01-02    bad\n",
            "2  2005-01-03    bad\n",
            "3  2005-01-04    bad\n",
            "4  2005-01-05    bad\n"
          ]
        }
      ]
    },
    {
      "cell_type": "markdown",
      "source": [
        "# ***Merging the DataFrames***\n",
        "\n",
        "In this exercise, you'll merge the `ri` and `weather_rating` DataFrames into a new DataFrame, `ri_weather`.\n",
        "\n",
        "The DataFrames will be joined using the `stop_date` column from `ri` and the `DATE` column from `weather_rating`. Thankfully the date formatting matches exactly, which is not always the case!\n",
        "\n",
        "Once the merge is complete, you'll set `stop_datetime` as the index, which is the column you saved in the previous exercise.\n",
        "\n",
        "* Examine the shape of the `ri` DataFrame.\n",
        "* Merge the `ri` and `weather_rating` DataFrames using a left join.\n",
        "* Examine the shape of `ri_weather` to confirm that it has two more columns but the same number of rows as `ri`.\n",
        "* Replace the index of `ri_weather` with the `stop_datetime` column."
      ],
      "metadata": {
        "id": "eAiwZmLbF7JO"
      }
    },
    {
      "cell_type": "code",
      "source": [
        "import matplotlib.pyplot as plt\n",
        "import pandas as pd\n",
        "pd.options.display.float_format = '{:,.2f}'.format\n",
        "\n",
        "ri = pd.read_csv('police.csv')\n",
        "ri.drop(['county_name', 'state'], axis='columns', inplace=True)\n",
        "ri.dropna(subset=['driver_gender'], inplace=True)\n",
        "ri['is_arrested'] = ri['is_arrested'].astype('bool')\n",
        "combined = ri['stop_date'].str.cat(ri['stop_time'], sep=' ')\n",
        "ri['stop_datetime'] = pd.to_datetime(combined)\n",
        "ri.set_index('stop_datetime', inplace=True)\n",
        "ri['frisk'] = ri['search_type'].str.contains('Protective Frisk', na=False)\n",
        "hourly_arrest_rate = ri.groupby(ri.index.hour)['is_arrested'].mean()\n",
        "annual_drug_rate = ri['drugs_related_stop'].resample('A').mean()\n",
        "annual_search_rate = ri['search_conducted'].resample('A').mean()\n",
        "annual = pd.concat([annual_drug_rate, annual_search_rate], axis='columns')\n",
        "all_zones = pd.crosstab(ri['district'], ri['violation'])\n",
        "k_zones = all_zones.loc['Zone K1':'Zone K3']\n",
        "mapping = {'0-15 Min': 8, '16-30 Min': 23, '30+ Min': 45}\n",
        "ri['stop_minutes'] = ri.stop_duration.map(mapping)\n",
        "\n",
        "weather = pd.read_csv('weather.csv')\n",
        "weather['TDIFF'] = weather['TMAX'] - weather['TMIN']\n",
        "WT = weather.loc[:, 'WT01':'WT22']\n",
        "weather['bad_conditions'] = WT.sum(axis='columns')\n",
        "weather['bad_conditions'] = weather.bad_conditions.fillna(0).astype('int')\n",
        "mapping = {0:'good', 1:'bad', 2:'bad', 3:'bad', 4:'bad', 5:'worse', 6:'worse', 7:'worse', 8:'worse', 9:'worse'}\n",
        "weather['rating'] = weather['bad_conditions'].map(mapping)\n",
        "cats = ['good', 'bad', 'worse']\n",
        "weather['rating'] = weather['rating'].astype('category')\n",
        "weather_rating = weather[['DATE', 'rating']]\n",
        "\n",
        "\n",
        "# ต้องมี เพราะเวลา merge แล้ว index หาย\n",
        "ri.reset_index(inplace=True)\n",
        "\n",
        "\n",
        "print(ri.shape)\n",
        "\n",
        "# Merge 'ri' and 'weather_rating' using a left join\n",
        "ri_weather = pd.merge(left=ri, right=weather_rating, left_on='stop_date', right_on='DATE', how='left')\n",
        "\n",
        "# Examine the shape of 'ri_weather'\n",
        "print(ri_weather.shape)\n",
        "\n",
        "# Set 'stop_datetime' as the index of 'ri_weather'\n",
        "ri_weather.set_index('stop_datetime', inplace=True)\n",
        "ri_weather.head()"
      ],
      "metadata": {
        "colab": {
          "base_uri": "https://localhost:8080/",
          "height": 425
        },
        "id": "v0z0Cc6RCtK2",
        "outputId": "c5d87228-4667-4af8-c6f4-b932eeef26d4"
      },
      "execution_count": 40,
      "outputs": [
        {
          "output_type": "stream",
          "name": "stdout",
          "text": [
            "(86536, 16)\n",
            "(86536, 18)\n"
          ]
        },
        {
          "output_type": "execute_result",
          "data": {
            "text/html": [
              "\n",
              "  <div id=\"df-e2e54f99-793e-4626-af43-5039561eb654\">\n",
              "    <div class=\"colab-df-container\">\n",
              "      <div>\n",
              "<style scoped>\n",
              "    .dataframe tbody tr th:only-of-type {\n",
              "        vertical-align: middle;\n",
              "    }\n",
              "\n",
              "    .dataframe tbody tr th {\n",
              "        vertical-align: top;\n",
              "    }\n",
              "\n",
              "    .dataframe thead th {\n",
              "        text-align: right;\n",
              "    }\n",
              "</style>\n",
              "<table border=\"1\" class=\"dataframe\">\n",
              "  <thead>\n",
              "    <tr style=\"text-align: right;\">\n",
              "      <th></th>\n",
              "      <th>stop_date</th>\n",
              "      <th>stop_time</th>\n",
              "      <th>driver_gender</th>\n",
              "      <th>driver_race</th>\n",
              "      <th>violation_raw</th>\n",
              "      <th>violation</th>\n",
              "      <th>search_conducted</th>\n",
              "      <th>search_type</th>\n",
              "      <th>stop_outcome</th>\n",
              "      <th>is_arrested</th>\n",
              "      <th>stop_duration</th>\n",
              "      <th>drugs_related_stop</th>\n",
              "      <th>district</th>\n",
              "      <th>frisk</th>\n",
              "      <th>stop_minutes</th>\n",
              "      <th>DATE</th>\n",
              "      <th>rating</th>\n",
              "    </tr>\n",
              "    <tr>\n",
              "      <th>stop_datetime</th>\n",
              "      <th></th>\n",
              "      <th></th>\n",
              "      <th></th>\n",
              "      <th></th>\n",
              "      <th></th>\n",
              "      <th></th>\n",
              "      <th></th>\n",
              "      <th></th>\n",
              "      <th></th>\n",
              "      <th></th>\n",
              "      <th></th>\n",
              "      <th></th>\n",
              "      <th></th>\n",
              "      <th></th>\n",
              "      <th></th>\n",
              "      <th></th>\n",
              "      <th></th>\n",
              "    </tr>\n",
              "  </thead>\n",
              "  <tbody>\n",
              "    <tr>\n",
              "      <th>2005-01-04 12:55:00</th>\n",
              "      <td>2005-01-04</td>\n",
              "      <td>12:55</td>\n",
              "      <td>M</td>\n",
              "      <td>White</td>\n",
              "      <td>Equipment/Inspection Violation</td>\n",
              "      <td>Equipment</td>\n",
              "      <td>False</td>\n",
              "      <td>NaN</td>\n",
              "      <td>Citation</td>\n",
              "      <td>False</td>\n",
              "      <td>0-15 Min</td>\n",
              "      <td>False</td>\n",
              "      <td>Zone X4</td>\n",
              "      <td>False</td>\n",
              "      <td>8</td>\n",
              "      <td>2005-01-04</td>\n",
              "      <td>bad</td>\n",
              "    </tr>\n",
              "    <tr>\n",
              "      <th>2005-01-23 23:15:00</th>\n",
              "      <td>2005-01-23</td>\n",
              "      <td>23:15</td>\n",
              "      <td>M</td>\n",
              "      <td>White</td>\n",
              "      <td>Speeding</td>\n",
              "      <td>Speeding</td>\n",
              "      <td>False</td>\n",
              "      <td>NaN</td>\n",
              "      <td>Citation</td>\n",
              "      <td>False</td>\n",
              "      <td>0-15 Min</td>\n",
              "      <td>False</td>\n",
              "      <td>Zone K3</td>\n",
              "      <td>False</td>\n",
              "      <td>8</td>\n",
              "      <td>2005-01-23</td>\n",
              "      <td>worse</td>\n",
              "    </tr>\n",
              "    <tr>\n",
              "      <th>2005-02-17 04:15:00</th>\n",
              "      <td>2005-02-17</td>\n",
              "      <td>04:15</td>\n",
              "      <td>M</td>\n",
              "      <td>White</td>\n",
              "      <td>Speeding</td>\n",
              "      <td>Speeding</td>\n",
              "      <td>False</td>\n",
              "      <td>NaN</td>\n",
              "      <td>Citation</td>\n",
              "      <td>False</td>\n",
              "      <td>0-15 Min</td>\n",
              "      <td>False</td>\n",
              "      <td>Zone X4</td>\n",
              "      <td>False</td>\n",
              "      <td>8</td>\n",
              "      <td>2005-02-17</td>\n",
              "      <td>good</td>\n",
              "    </tr>\n",
              "    <tr>\n",
              "      <th>2005-02-20 17:15:00</th>\n",
              "      <td>2005-02-20</td>\n",
              "      <td>17:15</td>\n",
              "      <td>M</td>\n",
              "      <td>White</td>\n",
              "      <td>Call for Service</td>\n",
              "      <td>Other</td>\n",
              "      <td>False</td>\n",
              "      <td>NaN</td>\n",
              "      <td>Arrest Driver</td>\n",
              "      <td>True</td>\n",
              "      <td>16-30 Min</td>\n",
              "      <td>False</td>\n",
              "      <td>Zone X1</td>\n",
              "      <td>False</td>\n",
              "      <td>23</td>\n",
              "      <td>2005-02-20</td>\n",
              "      <td>bad</td>\n",
              "    </tr>\n",
              "    <tr>\n",
              "      <th>2005-02-24 01:20:00</th>\n",
              "      <td>2005-02-24</td>\n",
              "      <td>01:20</td>\n",
              "      <td>F</td>\n",
              "      <td>White</td>\n",
              "      <td>Speeding</td>\n",
              "      <td>Speeding</td>\n",
              "      <td>False</td>\n",
              "      <td>NaN</td>\n",
              "      <td>Citation</td>\n",
              "      <td>False</td>\n",
              "      <td>0-15 Min</td>\n",
              "      <td>False</td>\n",
              "      <td>Zone X3</td>\n",
              "      <td>False</td>\n",
              "      <td>8</td>\n",
              "      <td>2005-02-24</td>\n",
              "      <td>bad</td>\n",
              "    </tr>\n",
              "  </tbody>\n",
              "</table>\n",
              "</div>\n",
              "      <button class=\"colab-df-convert\" onclick=\"convertToInteractive('df-e2e54f99-793e-4626-af43-5039561eb654')\"\n",
              "              title=\"Convert this dataframe to an interactive table.\"\n",
              "              style=\"display:none;\">\n",
              "        \n",
              "  <svg xmlns=\"http://www.w3.org/2000/svg\" height=\"24px\"viewBox=\"0 0 24 24\"\n",
              "       width=\"24px\">\n",
              "    <path d=\"M0 0h24v24H0V0z\" fill=\"none\"/>\n",
              "    <path d=\"M18.56 5.44l.94 2.06.94-2.06 2.06-.94-2.06-.94-.94-2.06-.94 2.06-2.06.94zm-11 1L8.5 8.5l.94-2.06 2.06-.94-2.06-.94L8.5 2.5l-.94 2.06-2.06.94zm10 10l.94 2.06.94-2.06 2.06-.94-2.06-.94-.94-2.06-.94 2.06-2.06.94z\"/><path d=\"M17.41 7.96l-1.37-1.37c-.4-.4-.92-.59-1.43-.59-.52 0-1.04.2-1.43.59L10.3 9.45l-7.72 7.72c-.78.78-.78 2.05 0 2.83L4 21.41c.39.39.9.59 1.41.59.51 0 1.02-.2 1.41-.59l7.78-7.78 2.81-2.81c.8-.78.8-2.07 0-2.86zM5.41 20L4 18.59l7.72-7.72 1.47 1.35L5.41 20z\"/>\n",
              "  </svg>\n",
              "      </button>\n",
              "      \n",
              "  <style>\n",
              "    .colab-df-container {\n",
              "      display:flex;\n",
              "      flex-wrap:wrap;\n",
              "      gap: 12px;\n",
              "    }\n",
              "\n",
              "    .colab-df-convert {\n",
              "      background-color: #E8F0FE;\n",
              "      border: none;\n",
              "      border-radius: 50%;\n",
              "      cursor: pointer;\n",
              "      display: none;\n",
              "      fill: #1967D2;\n",
              "      height: 32px;\n",
              "      padding: 0 0 0 0;\n",
              "      width: 32px;\n",
              "    }\n",
              "\n",
              "    .colab-df-convert:hover {\n",
              "      background-color: #E2EBFA;\n",
              "      box-shadow: 0px 1px 2px rgba(60, 64, 67, 0.3), 0px 1px 3px 1px rgba(60, 64, 67, 0.15);\n",
              "      fill: #174EA6;\n",
              "    }\n",
              "\n",
              "    [theme=dark] .colab-df-convert {\n",
              "      background-color: #3B4455;\n",
              "      fill: #D2E3FC;\n",
              "    }\n",
              "\n",
              "    [theme=dark] .colab-df-convert:hover {\n",
              "      background-color: #434B5C;\n",
              "      box-shadow: 0px 1px 3px 1px rgba(0, 0, 0, 0.15);\n",
              "      filter: drop-shadow(0px 1px 2px rgba(0, 0, 0, 0.3));\n",
              "      fill: #FFFFFF;\n",
              "    }\n",
              "  </style>\n",
              "\n",
              "      <script>\n",
              "        const buttonEl =\n",
              "          document.querySelector('#df-e2e54f99-793e-4626-af43-5039561eb654 button.colab-df-convert');\n",
              "        buttonEl.style.display =\n",
              "          google.colab.kernel.accessAllowed ? 'block' : 'none';\n",
              "\n",
              "        async function convertToInteractive(key) {\n",
              "          const element = document.querySelector('#df-e2e54f99-793e-4626-af43-5039561eb654');\n",
              "          const dataTable =\n",
              "            await google.colab.kernel.invokeFunction('convertToInteractive',\n",
              "                                                     [key], {});\n",
              "          if (!dataTable) return;\n",
              "\n",
              "          const docLinkHtml = 'Like what you see? Visit the ' +\n",
              "            '<a target=\"_blank\" href=https://colab.research.google.com/notebooks/data_table.ipynb>data table notebook</a>'\n",
              "            + ' to learn more about interactive tables.';\n",
              "          element.innerHTML = '';\n",
              "          dataTable['output_type'] = 'display_data';\n",
              "          await google.colab.output.renderOutput(dataTable, element);\n",
              "          const docLink = document.createElement('div');\n",
              "          docLink.innerHTML = docLinkHtml;\n",
              "          element.appendChild(docLink);\n",
              "        }\n",
              "      </script>\n",
              "    </div>\n",
              "  </div>\n",
              "  "
            ],
            "text/plain": [
              "                      stop_date stop_time  ...        DATE rating\n",
              "stop_datetime                              ...                   \n",
              "2005-01-04 12:55:00  2005-01-04     12:55  ...  2005-01-04    bad\n",
              "2005-01-23 23:15:00  2005-01-23     23:15  ...  2005-01-23  worse\n",
              "2005-02-17 04:15:00  2005-02-17     04:15  ...  2005-02-17   good\n",
              "2005-02-20 17:15:00  2005-02-20     17:15  ...  2005-02-20    bad\n",
              "2005-02-24 01:20:00  2005-02-24     01:20  ...  2005-02-24    bad\n",
              "\n",
              "[5 rows x 17 columns]"
            ]
          },
          "metadata": {},
          "execution_count": 40
        }
      ]
    },
    {
      "cell_type": "markdown",
      "source": [
        "# ***`pivot_table`***"
      ],
      "metadata": {
        "id": "UJIHQTwYLZi7"
      }
    },
    {
      "cell_type": "code",
      "source": [
        "ri.pivot_table(index='violation', columns='driver_gender', values='search_conducted')"
      ],
      "metadata": {
        "colab": {
          "base_uri": "https://localhost:8080/",
          "height": 269
        },
        "id": "-5Po4PLIGp6N",
        "outputId": "5b41c115-5cd8-4555-c9c2-6ce8bab69e2c"
      },
      "execution_count": 41,
      "outputs": [
        {
          "output_type": "execute_result",
          "data": {
            "text/html": [
              "\n",
              "  <div id=\"df-9d2c268a-1e0c-432a-bbaa-cf9de60e5d24\">\n",
              "    <div class=\"colab-df-container\">\n",
              "      <div>\n",
              "<style scoped>\n",
              "    .dataframe tbody tr th:only-of-type {\n",
              "        vertical-align: middle;\n",
              "    }\n",
              "\n",
              "    .dataframe tbody tr th {\n",
              "        vertical-align: top;\n",
              "    }\n",
              "\n",
              "    .dataframe thead th {\n",
              "        text-align: right;\n",
              "    }\n",
              "</style>\n",
              "<table border=\"1\" class=\"dataframe\">\n",
              "  <thead>\n",
              "    <tr style=\"text-align: right;\">\n",
              "      <th>driver_gender</th>\n",
              "      <th>F</th>\n",
              "      <th>M</th>\n",
              "    </tr>\n",
              "    <tr>\n",
              "      <th>violation</th>\n",
              "      <th></th>\n",
              "      <th></th>\n",
              "    </tr>\n",
              "  </thead>\n",
              "  <tbody>\n",
              "    <tr>\n",
              "      <th>Equipment</th>\n",
              "      <td>0.04</td>\n",
              "      <td>0.07</td>\n",
              "    </tr>\n",
              "    <tr>\n",
              "      <th>Moving violation</th>\n",
              "      <td>0.04</td>\n",
              "      <td>0.06</td>\n",
              "    </tr>\n",
              "    <tr>\n",
              "      <th>Other</th>\n",
              "      <td>0.04</td>\n",
              "      <td>0.05</td>\n",
              "    </tr>\n",
              "    <tr>\n",
              "      <th>Registration/plates</th>\n",
              "      <td>0.05</td>\n",
              "      <td>0.11</td>\n",
              "    </tr>\n",
              "    <tr>\n",
              "      <th>Seat belt</th>\n",
              "      <td>0.02</td>\n",
              "      <td>0.04</td>\n",
              "    </tr>\n",
              "    <tr>\n",
              "      <th>Speeding</th>\n",
              "      <td>0.01</td>\n",
              "      <td>0.03</td>\n",
              "    </tr>\n",
              "  </tbody>\n",
              "</table>\n",
              "</div>\n",
              "      <button class=\"colab-df-convert\" onclick=\"convertToInteractive('df-9d2c268a-1e0c-432a-bbaa-cf9de60e5d24')\"\n",
              "              title=\"Convert this dataframe to an interactive table.\"\n",
              "              style=\"display:none;\">\n",
              "        \n",
              "  <svg xmlns=\"http://www.w3.org/2000/svg\" height=\"24px\"viewBox=\"0 0 24 24\"\n",
              "       width=\"24px\">\n",
              "    <path d=\"M0 0h24v24H0V0z\" fill=\"none\"/>\n",
              "    <path d=\"M18.56 5.44l.94 2.06.94-2.06 2.06-.94-2.06-.94-.94-2.06-.94 2.06-2.06.94zm-11 1L8.5 8.5l.94-2.06 2.06-.94-2.06-.94L8.5 2.5l-.94 2.06-2.06.94zm10 10l.94 2.06.94-2.06 2.06-.94-2.06-.94-.94-2.06-.94 2.06-2.06.94z\"/><path d=\"M17.41 7.96l-1.37-1.37c-.4-.4-.92-.59-1.43-.59-.52 0-1.04.2-1.43.59L10.3 9.45l-7.72 7.72c-.78.78-.78 2.05 0 2.83L4 21.41c.39.39.9.59 1.41.59.51 0 1.02-.2 1.41-.59l7.78-7.78 2.81-2.81c.8-.78.8-2.07 0-2.86zM5.41 20L4 18.59l7.72-7.72 1.47 1.35L5.41 20z\"/>\n",
              "  </svg>\n",
              "      </button>\n",
              "      \n",
              "  <style>\n",
              "    .colab-df-container {\n",
              "      display:flex;\n",
              "      flex-wrap:wrap;\n",
              "      gap: 12px;\n",
              "    }\n",
              "\n",
              "    .colab-df-convert {\n",
              "      background-color: #E8F0FE;\n",
              "      border: none;\n",
              "      border-radius: 50%;\n",
              "      cursor: pointer;\n",
              "      display: none;\n",
              "      fill: #1967D2;\n",
              "      height: 32px;\n",
              "      padding: 0 0 0 0;\n",
              "      width: 32px;\n",
              "    }\n",
              "\n",
              "    .colab-df-convert:hover {\n",
              "      background-color: #E2EBFA;\n",
              "      box-shadow: 0px 1px 2px rgba(60, 64, 67, 0.3), 0px 1px 3px 1px rgba(60, 64, 67, 0.15);\n",
              "      fill: #174EA6;\n",
              "    }\n",
              "\n",
              "    [theme=dark] .colab-df-convert {\n",
              "      background-color: #3B4455;\n",
              "      fill: #D2E3FC;\n",
              "    }\n",
              "\n",
              "    [theme=dark] .colab-df-convert:hover {\n",
              "      background-color: #434B5C;\n",
              "      box-shadow: 0px 1px 3px 1px rgba(0, 0, 0, 0.15);\n",
              "      filter: drop-shadow(0px 1px 2px rgba(0, 0, 0, 0.3));\n",
              "      fill: #FFFFFF;\n",
              "    }\n",
              "  </style>\n",
              "\n",
              "      <script>\n",
              "        const buttonEl =\n",
              "          document.querySelector('#df-9d2c268a-1e0c-432a-bbaa-cf9de60e5d24 button.colab-df-convert');\n",
              "        buttonEl.style.display =\n",
              "          google.colab.kernel.accessAllowed ? 'block' : 'none';\n",
              "\n",
              "        async function convertToInteractive(key) {\n",
              "          const element = document.querySelector('#df-9d2c268a-1e0c-432a-bbaa-cf9de60e5d24');\n",
              "          const dataTable =\n",
              "            await google.colab.kernel.invokeFunction('convertToInteractive',\n",
              "                                                     [key], {});\n",
              "          if (!dataTable) return;\n",
              "\n",
              "          const docLinkHtml = 'Like what you see? Visit the ' +\n",
              "            '<a target=\"_blank\" href=https://colab.research.google.com/notebooks/data_table.ipynb>data table notebook</a>'\n",
              "            + ' to learn more about interactive tables.';\n",
              "          element.innerHTML = '';\n",
              "          dataTable['output_type'] = 'display_data';\n",
              "          await google.colab.output.renderOutput(dataTable, element);\n",
              "          const docLink = document.createElement('div');\n",
              "          docLink.innerHTML = docLinkHtml;\n",
              "          element.appendChild(docLink);\n",
              "        }\n",
              "      </script>\n",
              "    </div>\n",
              "  </div>\n",
              "  "
            ],
            "text/plain": [
              "driver_gender          F    M\n",
              "violation                    \n",
              "Equipment           0.04 0.07\n",
              "Moving violation    0.04 0.06\n",
              "Other               0.04 0.05\n",
              "Registration/plates 0.05 0.11\n",
              "Seat belt           0.02 0.04\n",
              "Speeding            0.01 0.03"
            ]
          },
          "metadata": {},
          "execution_count": 41
        }
      ]
    },
    {
      "cell_type": "markdown",
      "source": [
        "# ***`crosstab`***"
      ],
      "metadata": {
        "id": "PRzzyG80LgsT"
      }
    },
    {
      "cell_type": "code",
      "source": [
        "pd.crosstab(index=ri['violation'], columns=ri['driver_gender'], values=ri['search_conducted'], aggfunc='mean')"
      ],
      "metadata": {
        "colab": {
          "base_uri": "https://localhost:8080/",
          "height": 269
        },
        "id": "l55Y2EgZK_53",
        "outputId": "12775a55-2909-42d6-d535-59aea8217cb1"
      },
      "execution_count": 44,
      "outputs": [
        {
          "output_type": "execute_result",
          "data": {
            "text/html": [
              "\n",
              "  <div id=\"df-d6ed40b7-4831-40ea-8ad8-d680ec43323e\">\n",
              "    <div class=\"colab-df-container\">\n",
              "      <div>\n",
              "<style scoped>\n",
              "    .dataframe tbody tr th:only-of-type {\n",
              "        vertical-align: middle;\n",
              "    }\n",
              "\n",
              "    .dataframe tbody tr th {\n",
              "        vertical-align: top;\n",
              "    }\n",
              "\n",
              "    .dataframe thead th {\n",
              "        text-align: right;\n",
              "    }\n",
              "</style>\n",
              "<table border=\"1\" class=\"dataframe\">\n",
              "  <thead>\n",
              "    <tr style=\"text-align: right;\">\n",
              "      <th>driver_gender</th>\n",
              "      <th>F</th>\n",
              "      <th>M</th>\n",
              "    </tr>\n",
              "    <tr>\n",
              "      <th>violation</th>\n",
              "      <th></th>\n",
              "      <th></th>\n",
              "    </tr>\n",
              "  </thead>\n",
              "  <tbody>\n",
              "    <tr>\n",
              "      <th>Equipment</th>\n",
              "      <td>0.04</td>\n",
              "      <td>0.07</td>\n",
              "    </tr>\n",
              "    <tr>\n",
              "      <th>Moving violation</th>\n",
              "      <td>0.04</td>\n",
              "      <td>0.06</td>\n",
              "    </tr>\n",
              "    <tr>\n",
              "      <th>Other</th>\n",
              "      <td>0.04</td>\n",
              "      <td>0.05</td>\n",
              "    </tr>\n",
              "    <tr>\n",
              "      <th>Registration/plates</th>\n",
              "      <td>0.05</td>\n",
              "      <td>0.11</td>\n",
              "    </tr>\n",
              "    <tr>\n",
              "      <th>Seat belt</th>\n",
              "      <td>0.02</td>\n",
              "      <td>0.04</td>\n",
              "    </tr>\n",
              "    <tr>\n",
              "      <th>Speeding</th>\n",
              "      <td>0.01</td>\n",
              "      <td>0.03</td>\n",
              "    </tr>\n",
              "  </tbody>\n",
              "</table>\n",
              "</div>\n",
              "      <button class=\"colab-df-convert\" onclick=\"convertToInteractive('df-d6ed40b7-4831-40ea-8ad8-d680ec43323e')\"\n",
              "              title=\"Convert this dataframe to an interactive table.\"\n",
              "              style=\"display:none;\">\n",
              "        \n",
              "  <svg xmlns=\"http://www.w3.org/2000/svg\" height=\"24px\"viewBox=\"0 0 24 24\"\n",
              "       width=\"24px\">\n",
              "    <path d=\"M0 0h24v24H0V0z\" fill=\"none\"/>\n",
              "    <path d=\"M18.56 5.44l.94 2.06.94-2.06 2.06-.94-2.06-.94-.94-2.06-.94 2.06-2.06.94zm-11 1L8.5 8.5l.94-2.06 2.06-.94-2.06-.94L8.5 2.5l-.94 2.06-2.06.94zm10 10l.94 2.06.94-2.06 2.06-.94-2.06-.94-.94-2.06-.94 2.06-2.06.94z\"/><path d=\"M17.41 7.96l-1.37-1.37c-.4-.4-.92-.59-1.43-.59-.52 0-1.04.2-1.43.59L10.3 9.45l-7.72 7.72c-.78.78-.78 2.05 0 2.83L4 21.41c.39.39.9.59 1.41.59.51 0 1.02-.2 1.41-.59l7.78-7.78 2.81-2.81c.8-.78.8-2.07 0-2.86zM5.41 20L4 18.59l7.72-7.72 1.47 1.35L5.41 20z\"/>\n",
              "  </svg>\n",
              "      </button>\n",
              "      \n",
              "  <style>\n",
              "    .colab-df-container {\n",
              "      display:flex;\n",
              "      flex-wrap:wrap;\n",
              "      gap: 12px;\n",
              "    }\n",
              "\n",
              "    .colab-df-convert {\n",
              "      background-color: #E8F0FE;\n",
              "      border: none;\n",
              "      border-radius: 50%;\n",
              "      cursor: pointer;\n",
              "      display: none;\n",
              "      fill: #1967D2;\n",
              "      height: 32px;\n",
              "      padding: 0 0 0 0;\n",
              "      width: 32px;\n",
              "    }\n",
              "\n",
              "    .colab-df-convert:hover {\n",
              "      background-color: #E2EBFA;\n",
              "      box-shadow: 0px 1px 2px rgba(60, 64, 67, 0.3), 0px 1px 3px 1px rgba(60, 64, 67, 0.15);\n",
              "      fill: #174EA6;\n",
              "    }\n",
              "\n",
              "    [theme=dark] .colab-df-convert {\n",
              "      background-color: #3B4455;\n",
              "      fill: #D2E3FC;\n",
              "    }\n",
              "\n",
              "    [theme=dark] .colab-df-convert:hover {\n",
              "      background-color: #434B5C;\n",
              "      box-shadow: 0px 1px 3px 1px rgba(0, 0, 0, 0.15);\n",
              "      filter: drop-shadow(0px 1px 2px rgba(0, 0, 0, 0.3));\n",
              "      fill: #FFFFFF;\n",
              "    }\n",
              "  </style>\n",
              "\n",
              "      <script>\n",
              "        const buttonEl =\n",
              "          document.querySelector('#df-d6ed40b7-4831-40ea-8ad8-d680ec43323e button.colab-df-convert');\n",
              "        buttonEl.style.display =\n",
              "          google.colab.kernel.accessAllowed ? 'block' : 'none';\n",
              "\n",
              "        async function convertToInteractive(key) {\n",
              "          const element = document.querySelector('#df-d6ed40b7-4831-40ea-8ad8-d680ec43323e');\n",
              "          const dataTable =\n",
              "            await google.colab.kernel.invokeFunction('convertToInteractive',\n",
              "                                                     [key], {});\n",
              "          if (!dataTable) return;\n",
              "\n",
              "          const docLinkHtml = 'Like what you see? Visit the ' +\n",
              "            '<a target=\"_blank\" href=https://colab.research.google.com/notebooks/data_table.ipynb>data table notebook</a>'\n",
              "            + ' to learn more about interactive tables.';\n",
              "          element.innerHTML = '';\n",
              "          dataTable['output_type'] = 'display_data';\n",
              "          await google.colab.output.renderOutput(dataTable, element);\n",
              "          const docLink = document.createElement('div');\n",
              "          docLink.innerHTML = docLinkHtml;\n",
              "          element.appendChild(docLink);\n",
              "        }\n",
              "      </script>\n",
              "    </div>\n",
              "  </div>\n",
              "  "
            ],
            "text/plain": [
              "driver_gender          F    M\n",
              "violation                    \n",
              "Equipment           0.04 0.07\n",
              "Moving violation    0.04 0.06\n",
              "Other               0.04 0.05\n",
              "Registration/plates 0.05 0.11\n",
              "Seat belt           0.02 0.04\n",
              "Speeding            0.01 0.03"
            ]
          },
          "metadata": {},
          "execution_count": 44
        }
      ]
    },
    {
      "cell_type": "code",
      "source": [
        "pd.crosstab(index=ri['violation'], columns=ri['driver_gender'])"
      ],
      "metadata": {
        "colab": {
          "base_uri": "https://localhost:8080/",
          "height": 269
        },
        "id": "0ADGapHjLIRQ",
        "outputId": "ff7fe6b0-5b82-4573-f878-a2406ad7020c"
      },
      "execution_count": 45,
      "outputs": [
        {
          "output_type": "execute_result",
          "data": {
            "text/html": [
              "\n",
              "  <div id=\"df-ef26cb65-b151-4569-8fd6-3625b456a430\">\n",
              "    <div class=\"colab-df-container\">\n",
              "      <div>\n",
              "<style scoped>\n",
              "    .dataframe tbody tr th:only-of-type {\n",
              "        vertical-align: middle;\n",
              "    }\n",
              "\n",
              "    .dataframe tbody tr th {\n",
              "        vertical-align: top;\n",
              "    }\n",
              "\n",
              "    .dataframe thead th {\n",
              "        text-align: right;\n",
              "    }\n",
              "</style>\n",
              "<table border=\"1\" class=\"dataframe\">\n",
              "  <thead>\n",
              "    <tr style=\"text-align: right;\">\n",
              "      <th>driver_gender</th>\n",
              "      <th>F</th>\n",
              "      <th>M</th>\n",
              "    </tr>\n",
              "    <tr>\n",
              "      <th>violation</th>\n",
              "      <th></th>\n",
              "      <th></th>\n",
              "    </tr>\n",
              "  </thead>\n",
              "  <tbody>\n",
              "    <tr>\n",
              "      <th>Equipment</th>\n",
              "      <td>2501</td>\n",
              "      <td>8420</td>\n",
              "    </tr>\n",
              "    <tr>\n",
              "      <th>Moving violation</th>\n",
              "      <td>3286</td>\n",
              "      <td>12938</td>\n",
              "    </tr>\n",
              "    <tr>\n",
              "      <th>Other</th>\n",
              "      <td>707</td>\n",
              "      <td>3702</td>\n",
              "    </tr>\n",
              "    <tr>\n",
              "      <th>Registration/plates</th>\n",
              "      <td>1056</td>\n",
              "      <td>2647</td>\n",
              "    </tr>\n",
              "    <tr>\n",
              "      <th>Seat belt</th>\n",
              "      <td>578</td>\n",
              "      <td>2278</td>\n",
              "    </tr>\n",
              "    <tr>\n",
              "      <th>Speeding</th>\n",
              "      <td>15646</td>\n",
              "      <td>32777</td>\n",
              "    </tr>\n",
              "  </tbody>\n",
              "</table>\n",
              "</div>\n",
              "      <button class=\"colab-df-convert\" onclick=\"convertToInteractive('df-ef26cb65-b151-4569-8fd6-3625b456a430')\"\n",
              "              title=\"Convert this dataframe to an interactive table.\"\n",
              "              style=\"display:none;\">\n",
              "        \n",
              "  <svg xmlns=\"http://www.w3.org/2000/svg\" height=\"24px\"viewBox=\"0 0 24 24\"\n",
              "       width=\"24px\">\n",
              "    <path d=\"M0 0h24v24H0V0z\" fill=\"none\"/>\n",
              "    <path d=\"M18.56 5.44l.94 2.06.94-2.06 2.06-.94-2.06-.94-.94-2.06-.94 2.06-2.06.94zm-11 1L8.5 8.5l.94-2.06 2.06-.94-2.06-.94L8.5 2.5l-.94 2.06-2.06.94zm10 10l.94 2.06.94-2.06 2.06-.94-2.06-.94-.94-2.06-.94 2.06-2.06.94z\"/><path d=\"M17.41 7.96l-1.37-1.37c-.4-.4-.92-.59-1.43-.59-.52 0-1.04.2-1.43.59L10.3 9.45l-7.72 7.72c-.78.78-.78 2.05 0 2.83L4 21.41c.39.39.9.59 1.41.59.51 0 1.02-.2 1.41-.59l7.78-7.78 2.81-2.81c.8-.78.8-2.07 0-2.86zM5.41 20L4 18.59l7.72-7.72 1.47 1.35L5.41 20z\"/>\n",
              "  </svg>\n",
              "      </button>\n",
              "      \n",
              "  <style>\n",
              "    .colab-df-container {\n",
              "      display:flex;\n",
              "      flex-wrap:wrap;\n",
              "      gap: 12px;\n",
              "    }\n",
              "\n",
              "    .colab-df-convert {\n",
              "      background-color: #E8F0FE;\n",
              "      border: none;\n",
              "      border-radius: 50%;\n",
              "      cursor: pointer;\n",
              "      display: none;\n",
              "      fill: #1967D2;\n",
              "      height: 32px;\n",
              "      padding: 0 0 0 0;\n",
              "      width: 32px;\n",
              "    }\n",
              "\n",
              "    .colab-df-convert:hover {\n",
              "      background-color: #E2EBFA;\n",
              "      box-shadow: 0px 1px 2px rgba(60, 64, 67, 0.3), 0px 1px 3px 1px rgba(60, 64, 67, 0.15);\n",
              "      fill: #174EA6;\n",
              "    }\n",
              "\n",
              "    [theme=dark] .colab-df-convert {\n",
              "      background-color: #3B4455;\n",
              "      fill: #D2E3FC;\n",
              "    }\n",
              "\n",
              "    [theme=dark] .colab-df-convert:hover {\n",
              "      background-color: #434B5C;\n",
              "      box-shadow: 0px 1px 3px 1px rgba(0, 0, 0, 0.15);\n",
              "      filter: drop-shadow(0px 1px 2px rgba(0, 0, 0, 0.3));\n",
              "      fill: #FFFFFF;\n",
              "    }\n",
              "  </style>\n",
              "\n",
              "      <script>\n",
              "        const buttonEl =\n",
              "          document.querySelector('#df-ef26cb65-b151-4569-8fd6-3625b456a430 button.colab-df-convert');\n",
              "        buttonEl.style.display =\n",
              "          google.colab.kernel.accessAllowed ? 'block' : 'none';\n",
              "\n",
              "        async function convertToInteractive(key) {\n",
              "          const element = document.querySelector('#df-ef26cb65-b151-4569-8fd6-3625b456a430');\n",
              "          const dataTable =\n",
              "            await google.colab.kernel.invokeFunction('convertToInteractive',\n",
              "                                                     [key], {});\n",
              "          if (!dataTable) return;\n",
              "\n",
              "          const docLinkHtml = 'Like what you see? Visit the ' +\n",
              "            '<a target=\"_blank\" href=https://colab.research.google.com/notebooks/data_table.ipynb>data table notebook</a>'\n",
              "            + ' to learn more about interactive tables.';\n",
              "          element.innerHTML = '';\n",
              "          dataTable['output_type'] = 'display_data';\n",
              "          await google.colab.output.renderOutput(dataTable, element);\n",
              "          const docLink = document.createElement('div');\n",
              "          docLink.innerHTML = docLinkHtml;\n",
              "          element.appendChild(docLink);\n",
              "        }\n",
              "      </script>\n",
              "    </div>\n",
              "  </div>\n",
              "  "
            ],
            "text/plain": [
              "driver_gender            F      M\n",
              "violation                        \n",
              "Equipment             2501   8420\n",
              "Moving violation      3286  12938\n",
              "Other                  707   3702\n",
              "Registration/plates   1056   2647\n",
              "Seat belt              578   2278\n",
              "Speeding             15646  32777"
            ]
          },
          "metadata": {},
          "execution_count": 45
        }
      ]
    },
    {
      "cell_type": "code",
      "source": [
        "ri.pivot_table(index='violation', columns='driver_gender', values='search_conducted', aggfunc='count')"
      ],
      "metadata": {
        "colab": {
          "base_uri": "https://localhost:8080/",
          "height": 269
        },
        "id": "xunntfaOLoP_",
        "outputId": "e4545ab3-3eaf-4a9f-ecf1-d5fdc48e93f8"
      },
      "execution_count": 46,
      "outputs": [
        {
          "output_type": "execute_result",
          "data": {
            "text/html": [
              "\n",
              "  <div id=\"df-ebe5549f-e586-43dc-a91a-98634fe4bd03\">\n",
              "    <div class=\"colab-df-container\">\n",
              "      <div>\n",
              "<style scoped>\n",
              "    .dataframe tbody tr th:only-of-type {\n",
              "        vertical-align: middle;\n",
              "    }\n",
              "\n",
              "    .dataframe tbody tr th {\n",
              "        vertical-align: top;\n",
              "    }\n",
              "\n",
              "    .dataframe thead th {\n",
              "        text-align: right;\n",
              "    }\n",
              "</style>\n",
              "<table border=\"1\" class=\"dataframe\">\n",
              "  <thead>\n",
              "    <tr style=\"text-align: right;\">\n",
              "      <th>driver_gender</th>\n",
              "      <th>F</th>\n",
              "      <th>M</th>\n",
              "    </tr>\n",
              "    <tr>\n",
              "      <th>violation</th>\n",
              "      <th></th>\n",
              "      <th></th>\n",
              "    </tr>\n",
              "  </thead>\n",
              "  <tbody>\n",
              "    <tr>\n",
              "      <th>Equipment</th>\n",
              "      <td>2501</td>\n",
              "      <td>8420</td>\n",
              "    </tr>\n",
              "    <tr>\n",
              "      <th>Moving violation</th>\n",
              "      <td>3286</td>\n",
              "      <td>12938</td>\n",
              "    </tr>\n",
              "    <tr>\n",
              "      <th>Other</th>\n",
              "      <td>707</td>\n",
              "      <td>3702</td>\n",
              "    </tr>\n",
              "    <tr>\n",
              "      <th>Registration/plates</th>\n",
              "      <td>1056</td>\n",
              "      <td>2647</td>\n",
              "    </tr>\n",
              "    <tr>\n",
              "      <th>Seat belt</th>\n",
              "      <td>578</td>\n",
              "      <td>2278</td>\n",
              "    </tr>\n",
              "    <tr>\n",
              "      <th>Speeding</th>\n",
              "      <td>15646</td>\n",
              "      <td>32777</td>\n",
              "    </tr>\n",
              "  </tbody>\n",
              "</table>\n",
              "</div>\n",
              "      <button class=\"colab-df-convert\" onclick=\"convertToInteractive('df-ebe5549f-e586-43dc-a91a-98634fe4bd03')\"\n",
              "              title=\"Convert this dataframe to an interactive table.\"\n",
              "              style=\"display:none;\">\n",
              "        \n",
              "  <svg xmlns=\"http://www.w3.org/2000/svg\" height=\"24px\"viewBox=\"0 0 24 24\"\n",
              "       width=\"24px\">\n",
              "    <path d=\"M0 0h24v24H0V0z\" fill=\"none\"/>\n",
              "    <path d=\"M18.56 5.44l.94 2.06.94-2.06 2.06-.94-2.06-.94-.94-2.06-.94 2.06-2.06.94zm-11 1L8.5 8.5l.94-2.06 2.06-.94-2.06-.94L8.5 2.5l-.94 2.06-2.06.94zm10 10l.94 2.06.94-2.06 2.06-.94-2.06-.94-.94-2.06-.94 2.06-2.06.94z\"/><path d=\"M17.41 7.96l-1.37-1.37c-.4-.4-.92-.59-1.43-.59-.52 0-1.04.2-1.43.59L10.3 9.45l-7.72 7.72c-.78.78-.78 2.05 0 2.83L4 21.41c.39.39.9.59 1.41.59.51 0 1.02-.2 1.41-.59l7.78-7.78 2.81-2.81c.8-.78.8-2.07 0-2.86zM5.41 20L4 18.59l7.72-7.72 1.47 1.35L5.41 20z\"/>\n",
              "  </svg>\n",
              "      </button>\n",
              "      \n",
              "  <style>\n",
              "    .colab-df-container {\n",
              "      display:flex;\n",
              "      flex-wrap:wrap;\n",
              "      gap: 12px;\n",
              "    }\n",
              "\n",
              "    .colab-df-convert {\n",
              "      background-color: #E8F0FE;\n",
              "      border: none;\n",
              "      border-radius: 50%;\n",
              "      cursor: pointer;\n",
              "      display: none;\n",
              "      fill: #1967D2;\n",
              "      height: 32px;\n",
              "      padding: 0 0 0 0;\n",
              "      width: 32px;\n",
              "    }\n",
              "\n",
              "    .colab-df-convert:hover {\n",
              "      background-color: #E2EBFA;\n",
              "      box-shadow: 0px 1px 2px rgba(60, 64, 67, 0.3), 0px 1px 3px 1px rgba(60, 64, 67, 0.15);\n",
              "      fill: #174EA6;\n",
              "    }\n",
              "\n",
              "    [theme=dark] .colab-df-convert {\n",
              "      background-color: #3B4455;\n",
              "      fill: #D2E3FC;\n",
              "    }\n",
              "\n",
              "    [theme=dark] .colab-df-convert:hover {\n",
              "      background-color: #434B5C;\n",
              "      box-shadow: 0px 1px 3px 1px rgba(0, 0, 0, 0.15);\n",
              "      filter: drop-shadow(0px 1px 2px rgba(0, 0, 0, 0.3));\n",
              "      fill: #FFFFFF;\n",
              "    }\n",
              "  </style>\n",
              "\n",
              "      <script>\n",
              "        const buttonEl =\n",
              "          document.querySelector('#df-ebe5549f-e586-43dc-a91a-98634fe4bd03 button.colab-df-convert');\n",
              "        buttonEl.style.display =\n",
              "          google.colab.kernel.accessAllowed ? 'block' : 'none';\n",
              "\n",
              "        async function convertToInteractive(key) {\n",
              "          const element = document.querySelector('#df-ebe5549f-e586-43dc-a91a-98634fe4bd03');\n",
              "          const dataTable =\n",
              "            await google.colab.kernel.invokeFunction('convertToInteractive',\n",
              "                                                     [key], {});\n",
              "          if (!dataTable) return;\n",
              "\n",
              "          const docLinkHtml = 'Like what you see? Visit the ' +\n",
              "            '<a target=\"_blank\" href=https://colab.research.google.com/notebooks/data_table.ipynb>data table notebook</a>'\n",
              "            + ' to learn more about interactive tables.';\n",
              "          element.innerHTML = '';\n",
              "          dataTable['output_type'] = 'display_data';\n",
              "          await google.colab.output.renderOutput(dataTable, element);\n",
              "          const docLink = document.createElement('div');\n",
              "          docLink.innerHTML = docLinkHtml;\n",
              "          element.appendChild(docLink);\n",
              "        }\n",
              "      </script>\n",
              "    </div>\n",
              "  </div>\n",
              "  "
            ],
            "text/plain": [
              "driver_gender            F      M\n",
              "violation                        \n",
              "Equipment             2501   8420\n",
              "Moving violation      3286  12938\n",
              "Other                  707   3702\n",
              "Registration/plates   1056   2647\n",
              "Seat belt              578   2278\n",
              "Speeding             15646  32777"
            ]
          },
          "metadata": {},
          "execution_count": 46
        }
      ]
    },
    {
      "cell_type": "markdown",
      "source": [
        "### ***Comparing arrest rates by weather rating***\n",
        "\n",
        "Do police officers arrest drivers more often when the weather is bad? Let's find out!\n",
        "\n",
        "* First, you'll calculate the overall arrest rate.\n",
        "* Then, you'll calculate the arrest rate for each of the weather ratings you previously assigned.\n",
        "* Finally, you'll add violation type as a second factor in the analysis, to see if that accounts for any differences in the arrest rate.\n",
        "\n",
        "1. Calculate the overall arrest rate by taking the mean of the `is_arrested` Series.\n",
        "\n",
        "2. Calculate the arrest rate for each weather rating using a **`.groupby()`**.\n",
        "\n",
        "3. Calculate the arrest rate for each combination of violation and rating. How do the arrest rates differ by group?"
      ],
      "metadata": {
        "id": "cVX7bznuL8Hr"
      }
    },
    {
      "cell_type": "code",
      "source": [
        "import matplotlib.pyplot as plt\n",
        "import pandas as pd\n",
        "pd.options.display.float_format = '{:,.4f}'.format\n",
        "\n",
        "ri = pd.read_csv('police.csv')\n",
        "ri.drop(['county_name', 'state'], axis='columns', inplace=True)\n",
        "ri.dropna(subset=['driver_gender'], inplace=True)\n",
        "ri['is_arrested'] = ri['is_arrested'].astype('bool')\n",
        "combined = ri['stop_date'].str.cat(ri['stop_time'], sep=' ')\n",
        "ri['stop_datetime'] = pd.to_datetime(combined)\n",
        "ri.set_index('stop_datetime', inplace=True)\n",
        "ri['frisk'] = ri['search_type'].str.contains('Protective Frisk', na=False)\n",
        "hourly_arrest_rate = ri.groupby(ri.index.hour)['is_arrested'].mean()\n",
        "annual_drug_rate = ri['drugs_related_stop'].resample('A').mean()\n",
        "annual_search_rate = ri['search_conducted'].resample('A').mean()\n",
        "annual = pd.concat([annual_drug_rate, annual_search_rate], axis='columns')\n",
        "all_zones = pd.crosstab(ri['district'], ri['violation'])\n",
        "k_zones = all_zones.loc['Zone K1':'Zone K3']\n",
        "mapping = {'0-15 Min': 8, '16-30 Min': 23, '30+ Min': 45}\n",
        "ri['stop_minutes'] = ri.stop_duration.map(mapping)\n",
        "\n",
        "weather = pd.read_csv('weather.csv')\n",
        "weather['TDIFF'] = weather['TMAX'] - weather['TMIN']\n",
        "WT = weather.loc[:, 'WT01':'WT22']\n",
        "weather['bad_conditions'] = WT.sum(axis='columns')\n",
        "weather['bad_conditions'] = weather.bad_conditions.fillna(0).astype('int')\n",
        "mapping = {0:'good', 1:'bad', 2:'bad', 3:'bad', 4:'bad', 5:'worse', 6:'worse', 7:'worse', 8:'worse', 9:'worse'}\n",
        "weather['rating'] = weather['bad_conditions'].map(mapping)\n",
        "cats = ['good', 'bad', 'worse']\n",
        "weather['rating'] = weather['rating'].astype('category')\n",
        "weather_rating = weather[['DATE', 'rating']]\n",
        "# ต้องมี เพราะเวลา merge แล้ว index หาย\n",
        "ri.reset_index(inplace=True)\n",
        "ri_weather = pd.merge(left=ri, right=weather_rating, left_on='stop_date', right_on='DATE', how='left')\n",
        "ri_weather.set_index('stop_datetime', inplace=True)\n",
        "\n",
        "# Calculate the overall arrest rate\n",
        "print(ri_weather['is_arrested'].mean())\n",
        "\n",
        "# Calculate the arrest rate for each 'rating'\n",
        "print(ri_weather.groupby('rating')['is_arrested'].mean())\n",
        "\n",
        "# Calculate the arrest rate for each 'violation' and 'rating'\n",
        "print(ri_weather.groupby(['violation', 'rating'])['is_arrested'].mean())"
      ],
      "metadata": {
        "colab": {
          "base_uri": "https://localhost:8080/"
        },
        "id": "ScO-Y1fpLv-c",
        "outputId": "325afe39-17d2-4996-c4ff-c560f3a25c44"
      },
      "execution_count": 51,
      "outputs": [
        {
          "output_type": "stream",
          "name": "stdout",
          "text": [
            "0.0355690117407784\n",
            "rating\n",
            "bad     0.0363\n",
            "good    0.0337\n",
            "worse   0.0417\n",
            "Name: is_arrested, dtype: float64\n",
            "violation            rating\n",
            "Equipment            bad      0.0663\n",
            "                     good     0.0590\n",
            "                     worse    0.0974\n",
            "Moving violation     bad      0.0580\n",
            "                     good     0.0562\n",
            "                     worse    0.0659\n",
            "Other                bad      0.0874\n",
            "                     good     0.0770\n",
            "                     worse    0.0629\n",
            "Registration/plates  bad      0.0982\n",
            "                     good     0.0816\n",
            "                     worse    0.1156\n",
            "Seat belt            bad      0.0225\n",
            "                     good     0.0286\n",
            "                     worse    0.0000\n",
            "Speeding             bad      0.0133\n",
            "                     good     0.0134\n",
            "                     worse    0.0169\n",
            "Name: is_arrested, dtype: float64\n"
          ]
        }
      ]
    },
    {
      "cell_type": "markdown",
      "source": [
        "The arrest rate increases as the weather gets worse, and that trend persists across many of the violation types. This doesn't prove a causal link, but it's quite an interesting result!\n",
        "\n",
        "### ***Selecting from a multi-indexed Series***\n",
        "\n",
        "The output of a single **`.groupby()`** operation on multiple columns is a Series with a `MultiIndex`. Working with this type of object is similar to working with a DataFrame:\n",
        "\n",
        "* The outer index level is like the DataFrame rows.\n",
        "* The inner index level is like the DataFrame columns.\n",
        "\n",
        "In this exercise, you'll practice accessing data from a multi-indexed Series using the **`.loc[]`** accessor.\n",
        "\n",
        "* Save the output of the **`.groupby()`** operation from the last exercise as a new object, `arrest_rate`.\n",
        "* Print the `arrest_rate` Series and examine it.\n",
        "* Print the arrest rate for moving violations in bad weather.\n",
        "* Print the arrest rates for speeding violations in all three weather conditions."
      ],
      "metadata": {
        "id": "BiQvmECcNqeo"
      }
    },
    {
      "cell_type": "code",
      "source": [
        "# Save the output of the groupby operation from the last exercise\n",
        "arrest_rate = ri_weather.groupby(['violation', 'rating'])['is_arrested'].mean()\n",
        "\n",
        "# Print the 'arrest_rate' Series\n",
        "print(arrest_rate)\n",
        "\n",
        "# Print the arrest rate for moving violations in bad weather\n",
        "print(arrest_rate.loc[('Moving violation', 'bad')])\n",
        "\n",
        "# Print the arrest rates for speeding violations in all three weather conditions\n",
        "print(arrest_rate.loc['Speeding'])"
      ],
      "metadata": {
        "colab": {
          "base_uri": "https://localhost:8080/"
        },
        "id": "ksuT6xFeM7I3",
        "outputId": "ce42fe44-d7ad-4b55-ea6b-0c0a177ba3c0"
      },
      "execution_count": 52,
      "outputs": [
        {
          "output_type": "stream",
          "name": "stdout",
          "text": [
            "violation            rating\n",
            "Equipment            bad      0.0663\n",
            "                     good     0.0590\n",
            "                     worse    0.0974\n",
            "Moving violation     bad      0.0580\n",
            "                     good     0.0562\n",
            "                     worse    0.0659\n",
            "Other                bad      0.0874\n",
            "                     good     0.0770\n",
            "                     worse    0.0629\n",
            "Registration/plates  bad      0.0982\n",
            "                     good     0.0816\n",
            "                     worse    0.1156\n",
            "Seat belt            bad      0.0225\n",
            "                     good     0.0286\n",
            "                     worse    0.0000\n",
            "Speeding             bad      0.0133\n",
            "                     good     0.0134\n",
            "                     worse    0.0169\n",
            "Name: is_arrested, dtype: float64\n",
            "0.05804964058049641\n",
            "rating\n",
            "bad     0.0133\n",
            "good    0.0134\n",
            "worse   0.0169\n",
            "Name: is_arrested, dtype: float64\n"
          ]
        }
      ]
    },
    {
      "cell_type": "markdown",
      "source": [
        "### ***Reshaping the arrest rate data***\n",
        "\n",
        "In this exercise, you'll start by reshaping the `arrest_rate` Series into a DataFrame. This is a useful step when working with any multi-indexed Series, since it enables you to access the full range of DataFrame methods.\n",
        "\n",
        "Then, you'll create the exact same DataFrame using a pivot table. This is a great example of how pandas often gives you more than one way to reach the same result!\n",
        "\n",
        "* Unstack the `arrest_rate` Series to reshape it into a DataFrame.\n",
        "* Create the exact same DataFrame using a pivot table! Each of the three **`.pivot_table()`** parameters should be specified as one of the `ri_weather` columns."
      ],
      "metadata": {
        "id": "eEWS8Rp8PEc8"
      }
    },
    {
      "cell_type": "code",
      "source": [
        "# Unstack the 'arrest_rate' Series into a DataFrame\n",
        "print(arrest_rate.unstack())\n",
        "\n",
        "# Create the same DataFrame using a pivot table\n",
        "print(ri_weather.pivot_table(index='violation', columns='rating', values='is_arrested'))"
      ],
      "metadata": {
        "colab": {
          "base_uri": "https://localhost:8080/"
        },
        "id": "ynJMagekO-4v",
        "outputId": "e1251d47-2877-4e69-d00b-7cb8d6a197d0"
      },
      "execution_count": 53,
      "outputs": [
        {
          "output_type": "stream",
          "name": "stdout",
          "text": [
            "rating                 bad   good  worse\n",
            "violation                               \n",
            "Equipment           0.0663 0.0590 0.0974\n",
            "Moving violation    0.0580 0.0562 0.0659\n",
            "Other               0.0874 0.0770 0.0629\n",
            "Registration/plates 0.0982 0.0816 0.1156\n",
            "Seat belt           0.0225 0.0286 0.0000\n",
            "Speeding            0.0133 0.0134 0.0169\n",
            "rating                 bad   good  worse\n",
            "violation                               \n",
            "Equipment           0.0663 0.0590 0.0974\n",
            "Moving violation    0.0580 0.0562 0.0659\n",
            "Other               0.0874 0.0770 0.0629\n",
            "Registration/plates 0.0982 0.0816 0.1156\n",
            "Seat belt           0.0225 0.0286 0.0000\n",
            "Speeding            0.0133 0.0134 0.0169\n"
          ]
        }
      ]
    }
  ]
}